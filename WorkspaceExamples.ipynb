{
 "cells": [
  {
   "cell_type": "code",
   "execution_count": 1,
   "metadata": {
    "collapsed": true
   },
   "outputs": [],
   "source": [
    "# Login user:\n",
    "username = 'demoadmin'\n",
    "password = 'password'\n",
    "host = \"10.10.0.204\"\n",
    "port = \"8080\""
   ]
  },
  {
   "cell_type": "code",
   "execution_count": 2,
   "metadata": {
    "collapsed": true
   },
   "outputs": [],
   "source": [
    "import api as AlpineAPI\n",
    "from pprint import pprint"
   ]
  },
  {
   "cell_type": "code",
   "execution_count": 3,
   "metadata": {
    "collapsed": false
   },
   "outputs": [
    {
     "name": "stderr",
     "output_type": "stream",
     "text": [
      "2017-02-01 15:34:42,802 requests.packages.urllib3.connectionpool connectionpool[214] INFO: Starting new HTTP connection (1): 10.10.0.204\n"
     ]
    }
   ],
   "source": [
    "session = AlpineAPI.Alpine(host, port, username, password)"
   ]
  },
  {
   "cell_type": "code",
   "execution_count": null,
   "metadata": {
    "collapsed": false
   },
   "outputs": [],
   "source": []
  },
  {
   "cell_type": "code",
   "execution_count": 4,
   "metadata": {
    "collapsed": false
   },
   "outputs": [
    {
     "data": {
      "text/plain": [
       "3"
      ]
     },
     "execution_count": 4,
     "metadata": {},
     "output_type": "execute_result"
    }
   ],
   "source": [
    "a = session.workspace.get_all(username='tjbay')\n",
    "len(a)"
   ]
  },
  {
   "cell_type": "code",
   "execution_count": null,
   "metadata": {
    "collapsed": true
   },
   "outputs": [],
   "source": []
  },
  {
   "cell_type": "code",
   "execution_count": 87,
   "metadata": {
    "collapsed": false,
    "scrolled": true
   },
   "outputs": [
    {
     "name": "stderr",
     "output_type": "stream",
     "text": [
      "2017-02-01 15:12:52,381 requests.packages.urllib3.connectionpool connectionpool[249] INFO: Resetting dropped connection: 10.10.0.204\n"
     ]
    },
    {
     "ename": "WorkspaceNotFoundException",
     "evalue": "AlpineException: Workspace Test WS2 not found",
     "output_type": "error",
     "traceback": [
      "\u001b[0;31m---------------------------------------------------------------------------\u001b[0m",
      "\u001b[0;31mWorkspaceNotFoundException\u001b[0m                Traceback (most recent call last)",
      "\u001b[0;32m<ipython-input-87-b5c198cd2bb2>\u001b[0m in \u001b[0;36m<module>\u001b[0;34m()\u001b[0m\n\u001b[0;32m----> 1\u001b[0;31m \u001b[0msession\u001b[0m\u001b[0;34m.\u001b[0m\u001b[0mworkspace\u001b[0m\u001b[0;34m.\u001b[0m\u001b[0mdelete\u001b[0m\u001b[0;34m(\u001b[0m\u001b[0;34m\"Test WS2\"\u001b[0m\u001b[0;34m)\u001b[0m\u001b[0;34m\u001b[0m\u001b[0m\n\u001b[0m",
      "\u001b[0;32m/Users/tjbay/Desktop/python-alpine-api/api/workspace.py\u001b[0m in \u001b[0;36mdelete\u001b[0;34m(self, workspace_name)\u001b[0m\n\u001b[1;32m    285\u001b[0m         \u001b[0;34m:\u001b[0m\u001b[0;32mreturn\u001b[0m\u001b[0;34m:\u001b[0m\u001b[0;34m\u001b[0m\u001b[0m\n\u001b[1;32m    286\u001b[0m         \"\"\"\n\u001b[0;32m--> 287\u001b[0;31m         \u001b[0mworkspace_id\u001b[0m \u001b[0;34m=\u001b[0m \u001b[0mself\u001b[0m\u001b[0;34m.\u001b[0m\u001b[0mget_id\u001b[0m\u001b[0;34m(\u001b[0m\u001b[0mworkspace_name\u001b[0m\u001b[0;34m)\u001b[0m\u001b[0;34m\u001b[0m\u001b[0m\n\u001b[0m\u001b[1;32m    288\u001b[0m         \u001b[0murl\u001b[0m \u001b[0;34m=\u001b[0m \u001b[0;34m\"{0}/workspaces/{1}\"\u001b[0m\u001b[0;34m.\u001b[0m\u001b[0mformat\u001b[0m\u001b[0;34m(\u001b[0m\u001b[0mself\u001b[0m\u001b[0;34m.\u001b[0m\u001b[0mbase_url\u001b[0m\u001b[0;34m,\u001b[0m \u001b[0mworkspace_id\u001b[0m\u001b[0;34m)\u001b[0m\u001b[0;34m\u001b[0m\u001b[0m\n\u001b[1;32m    289\u001b[0m         \u001b[0murl\u001b[0m \u001b[0;34m=\u001b[0m \u001b[0mself\u001b[0m\u001b[0;34m.\u001b[0m\u001b[0m_add_token_to_url\u001b[0m\u001b[0;34m(\u001b[0m\u001b[0murl\u001b[0m\u001b[0;34m)\u001b[0m\u001b[0;34m\u001b[0m\u001b[0m\n",
      "\u001b[0;32m/Users/tjbay/Desktop/python-alpine-api/api/workspace.py\u001b[0m in \u001b[0;36mget_id\u001b[0;34m(self, workspace_name)\u001b[0m\n\u001b[1;32m     65\u001b[0m         \u001b[0;34m:\u001b[0m\u001b[0;32mreturn\u001b[0m\u001b[0;34m:\u001b[0m\u001b[0;34m\u001b[0m\u001b[0m\n\u001b[1;32m     66\u001b[0m         \"\"\"\n\u001b[0;32m---> 67\u001b[0;31m         \u001b[0mworkspace_info\u001b[0m \u001b[0;34m=\u001b[0m \u001b[0mself\u001b[0m\u001b[0;34m.\u001b[0m\u001b[0mget_data\u001b[0m\u001b[0;34m(\u001b[0m\u001b[0mworkspace_name\u001b[0m\u001b[0;34m)\u001b[0m\u001b[0;34m\u001b[0m\u001b[0m\n\u001b[0m\u001b[1;32m     68\u001b[0m         \u001b[0;32mreturn\u001b[0m \u001b[0mworkspace_info\u001b[0m\u001b[0;34m[\u001b[0m\u001b[0;34m'id'\u001b[0m\u001b[0;34m]\u001b[0m\u001b[0;34m\u001b[0m\u001b[0m\n\u001b[1;32m     69\u001b[0m \u001b[0;34m\u001b[0m\u001b[0m\n",
      "\u001b[0;32m/Users/tjbay/Desktop/python-alpine-api/api/workspace.py\u001b[0m in \u001b[0;36mget_data\u001b[0;34m(self, workspace_name)\u001b[0m\n\u001b[1;32m     57\u001b[0m                 \u001b[0mself\u001b[0m\u001b[0;34m.\u001b[0m\u001b[0mlogger\u001b[0m\u001b[0;34m.\u001b[0m\u001b[0mdebug\u001b[0m\u001b[0;34m(\u001b[0m\u001b[0;34m\"Found workspace {0} in list...\"\u001b[0m\u001b[0;34m.\u001b[0m\u001b[0mformat\u001b[0m\u001b[0;34m(\u001b[0m\u001b[0mworkspace_name\u001b[0m\u001b[0;34m)\u001b[0m\u001b[0;34m)\u001b[0m\u001b[0;34m\u001b[0m\u001b[0m\n\u001b[1;32m     58\u001b[0m                 \u001b[0;32mreturn\u001b[0m \u001b[0mworkspace\u001b[0m\u001b[0;34m\u001b[0m\u001b[0m\n\u001b[0;32m---> 59\u001b[0;31m         \u001b[0;32mraise\u001b[0m \u001b[0mWorkspaceNotFoundException\u001b[0m\u001b[0;34m(\u001b[0m\u001b[0;34m\"Workspace {0} not found\"\u001b[0m\u001b[0;34m.\u001b[0m\u001b[0mformat\u001b[0m\u001b[0;34m(\u001b[0m\u001b[0mworkspace_name\u001b[0m\u001b[0;34m)\u001b[0m\u001b[0;34m)\u001b[0m\u001b[0;34m\u001b[0m\u001b[0m\n\u001b[0m\u001b[1;32m     60\u001b[0m \u001b[0;34m\u001b[0m\u001b[0m\n\u001b[1;32m     61\u001b[0m     \u001b[0;32mdef\u001b[0m \u001b[0mget_id\u001b[0m\u001b[0;34m(\u001b[0m\u001b[0mself\u001b[0m\u001b[0;34m,\u001b[0m \u001b[0mworkspace_name\u001b[0m\u001b[0;34m)\u001b[0m\u001b[0;34m:\u001b[0m\u001b[0;34m\u001b[0m\u001b[0m\n",
      "\u001b[0;31mWorkspaceNotFoundException\u001b[0m: AlpineException: Workspace Test WS2 not found"
     ]
    }
   ],
   "source": [
    "session.workspace.delete(\"Test WS2\")"
   ]
  },
  {
   "cell_type": "code",
   "execution_count": 21,
   "metadata": {
    "collapsed": false
   },
   "outputs": [
    {
     "data": {
      "text/plain": [
       "{u'errors': {u'fields': {u'name': {u'TAKEN': {}}}}}"
      ]
     },
     "execution_count": 21,
     "metadata": {},
     "output_type": "execute_result"
    }
   ],
   "source": [
    "session.workspace.create(workspace_name = \"Test WS2\", public = True, summary = \"test\")"
   ]
  },
  {
   "cell_type": "code",
   "execution_count": 22,
   "metadata": {
    "collapsed": false
   },
   "outputs": [],
   "source": [
    "mem = session.workspace.get_members(\"T.J.\")\n",
    "mem;"
   ]
  },
  {
   "cell_type": "code",
   "execution_count": 23,
   "metadata": {
    "collapsed": false
   },
   "outputs": [
    {
     "name": "stderr",
     "output_type": "stream",
     "text": [
      "2017-02-01 17:01:57,893 requests.packages.urllib3.connectionpool connectionpool[249] INFO: Resetting dropped connection: 10.10.0.204\n"
     ]
    },
    {
     "data": {
      "text/plain": [
       "{u'archived': False,\n",
       " u'archived_at': None,\n",
       " u'archiver': None,\n",
       " u'complete_json': True,\n",
       " u'datasets_count': 0,\n",
       " u'entity_type': u'workspace',\n",
       " u'has_added_member': True,\n",
       " u'has_added_sandbox': True,\n",
       " u'has_added_workfile': True,\n",
       " u'has_changed_settings': True,\n",
       " u'has_milestones': False,\n",
       " u'has_recent_comments': False,\n",
       " u'id': 942,\n",
       " u'image': {u'complete_json': True,\n",
       "  u'entity_type': u'image',\n",
       "  u'icon': u'',\n",
       "  u'original': u''},\n",
       " u'insights_count': 0,\n",
       " u'is_deleted': None,\n",
       " u'is_member': True,\n",
       " u'is_project': True,\n",
       " u'members_count': 1,\n",
       " u'milestone_completed_count': 0,\n",
       " u'milestone_count': 0,\n",
       " u'name': u'Test WS2',\n",
       " u'owner': {u'admin': True,\n",
       "  u'auth_method': u'internal',\n",
       "  u'complete_json': True,\n",
       "  u'dept': u'Development',\n",
       "  u'email': u'demoadmin@alpinenow.com',\n",
       "  u'entity_type': u'user',\n",
       "  u'first_name': u'Demo',\n",
       "  u'id': 665,\n",
       "  u'image': {u'complete_json': True,\n",
       "   u'entity_type': u'image',\n",
       "   u'icon': u'/users/665/image?style=icon&1483606634',\n",
       "   u'original': u'/users/665/image?style=original&1483606634'},\n",
       "  u'is_deleted': None,\n",
       "  u'last_name': u'Admin',\n",
       "  u'ldap_group_id': None,\n",
       "  u'notes': u'',\n",
       "  u'roles': [u'admin'],\n",
       "  u'subscribed_to_emails': False,\n",
       "  u'tags': [],\n",
       "  u'title': u'Demo',\n",
       "  u'user_type': u'analytics_developer',\n",
       "  u'username': u'demoadmin',\n",
       "  u'using_default_image': True},\n",
       " u'permission': [u'admin', u'create_workflow'],\n",
       " u'project_status': u'on_track',\n",
       " u'project_status_reason': None,\n",
       " u'project_target_date': None,\n",
       " u'public': True,\n",
       " u'recent_comments_count': 0,\n",
       " u'recent_insights_count': 0,\n",
       " u'sandbox_info': None,\n",
       " u'show_sandbox_datasets': True,\n",
       " u'summary': u'test',\n",
       " u'tags': [],\n",
       " u'workfiles_count': 0,\n",
       " u'workspace_stage': {u'complete_json': True,\n",
       "  u'default': False,\n",
       "  u'description_long': u'Create, evaluate, and optimize machine learning models.',\n",
       "  u'description_short': u'Create and iterate machine learning models.',\n",
       "  u'id': 3,\n",
       "  u'name': u'Model',\n",
       "  u'position': 3},\n",
       " u'workspace_stage_id': 3}"
      ]
     },
     "execution_count": 23,
     "metadata": {},
     "output_type": "execute_result"
    }
   ],
   "source": [
    "session.workspace.update_stage(workspace_name = \"Test WS2\", stage=\"Transform\")"
   ]
  },
  {
   "cell_type": "code",
   "execution_count": null,
   "metadata": {
    "collapsed": true
   },
   "outputs": [],
   "source": []
  },
  {
   "cell_type": "code",
   "execution_count": null,
   "metadata": {
    "collapsed": true
   },
   "outputs": [],
   "source": []
  },
  {
   "cell_type": "code",
   "execution_count": null,
   "metadata": {
    "collapsed": true
   },
   "outputs": [],
   "source": []
  }
 ],
 "metadata": {
  "anaconda-cloud": {},
  "kernelspec": {
   "display_name": "Python [conda root]",
   "language": "python",
   "name": "conda-root-py"
  },
  "language_info": {
   "codemirror_mode": {
    "name": "ipython",
    "version": 2
   },
   "file_extension": ".py",
   "mimetype": "text/x-python",
   "name": "python",
   "nbconvert_exporter": "python",
   "pygments_lexer": "ipython2",
   "version": "2.7.12"
  }
 },
 "nbformat": 4,
 "nbformat_minor": 1
}
