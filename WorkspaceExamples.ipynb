{
 "cells": [
  {
   "cell_type": "code",
   "execution_count": 1,
   "metadata": {
    "collapsed": true
   },
   "outputs": [],
   "source": [
    "# Login user:\n",
    "username = 'demoadmin'\n",
    "password = 'password'\n",
    "host = \"10.10.0.204\"\n",
    "port = \"8080\""
   ]
  },
  {
   "cell_type": "code",
   "execution_count": 2,
   "metadata": {
    "collapsed": true
   },
   "outputs": [],
   "source": [
    "import api as AlpineAPI\n",
    "from pprint import pprint"
   ]
  },
  {
   "cell_type": "code",
   "execution_count": 3,
   "metadata": {
    "collapsed": false
   },
   "outputs": [],
   "source": [
    "session = AlpineAPI.Alpine(host, port, username, password)"
   ]
  },
  {
   "cell_type": "code",
   "execution_count": null,
   "metadata": {
    "collapsed": false
   },
   "outputs": [],
   "source": []
  },
  {
   "cell_type": "code",
   "execution_count": 4,
   "metadata": {
    "collapsed": false
   },
   "outputs": [
    {
     "data": {
      "text/plain": [
       "4"
      ]
     },
     "execution_count": 4,
     "metadata": {},
     "output_type": "execute_result"
    }
   ],
   "source": [
    "a = session.workspace.get_all(username='tjbay')\n",
    "len(a)"
   ]
  },
  {
   "cell_type": "code",
   "execution_count": 5,
   "metadata": {
    "collapsed": false
   },
   "outputs": [
    {
     "name": "stdout",
     "output_type": "stream",
     "text": [
      "http://10.10.0.204:8080/alpinedatalabs/api/1/json/workflows/946/run?saveResult=true\n"
     ]
    },
    {
     "ename": "RunFlowFailureException",
     "evalue": "AlpineException: Run Workflow 946 failed with status code 404",
     "output_type": "error",
     "traceback": [
      "\u001b[0;31m---------------------------------------------------------------------------\u001b[0m",
      "\u001b[0;31mRunFlowFailureException\u001b[0m                   Traceback (most recent call last)",
      "\u001b[0;32m<ipython-input-5-c0ffd1ded3b8>\u001b[0m in \u001b[0;36m<module>\u001b[0;34m()\u001b[0m\n\u001b[0;32m----> 1\u001b[0;31m \u001b[0msession\u001b[0m\u001b[0;34m.\u001b[0m\u001b[0mworkfile\u001b[0m\u001b[0;34m.\u001b[0m\u001b[0mrun_workflow\u001b[0m\u001b[0;34m(\u001b[0m\u001b[0;34m\"946\"\u001b[0m\u001b[0;34m)\u001b[0m\u001b[0;34m\u001b[0m\u001b[0m\n\u001b[0m",
      "\u001b[0;32m/Users/tjbay/Desktop/python-alpine-api/api/workfile.py\u001b[0m in \u001b[0;36mrun_workflow\u001b[0;34m(self, workflow_id, variables)\u001b[0m\n\u001b[1;32m    124\u001b[0m         \u001b[0;32melse\u001b[0m\u001b[0;34m:\u001b[0m\u001b[0;34m\u001b[0m\u001b[0m\n\u001b[1;32m    125\u001b[0m             raise RunFlowFailureException(\n\u001b[0;32m--> 126\u001b[0;31m                 \"Run Workflow {0} failed with status code {1}\".format(workflow_id, response.status_code))\n\u001b[0m\u001b[1;32m    127\u001b[0m \u001b[0;34m\u001b[0m\u001b[0m\n\u001b[1;32m    128\u001b[0m     \u001b[0;32mdef\u001b[0m \u001b[0mquery_workflow_status\u001b[0m\u001b[0;34m(\u001b[0m\u001b[0mself\u001b[0m\u001b[0;34m,\u001b[0m \u001b[0mprocess_id\u001b[0m\u001b[0;34m)\u001b[0m\u001b[0;34m:\u001b[0m\u001b[0;34m\u001b[0m\u001b[0m\n",
      "\u001b[0;31mRunFlowFailureException\u001b[0m: AlpineException: Run Workflow 946 failed with status code 404"
     ]
    }
   ],
   "source": [
    "session.workfile.run_workflow(\"946\")"
   ]
  },
  {
   "cell_type": "code",
   "execution_count": null,
   "metadata": {
    "collapsed": true
   },
   "outputs": [],
   "source": []
  },
  {
   "cell_type": "code",
   "execution_count": null,
   "metadata": {
    "collapsed": true
   },
   "outputs": [],
   "source": []
  },
  {
   "cell_type": "code",
   "execution_count": null,
   "metadata": {
    "collapsed": true
   },
   "outputs": [],
   "source": []
  },
  {
   "cell_type": "code",
   "execution_count": null,
   "metadata": {
    "collapsed": true
   },
   "outputs": [],
   "source": []
  },
  {
   "cell_type": "code",
   "execution_count": 11,
   "metadata": {
    "collapsed": false,
    "scrolled": true
   },
   "outputs": [
    {
     "name": "stdout",
     "output_type": "stream",
     "text": [
      "Workspace successfully deleted\n"
     ]
    }
   ],
   "source": [
    "session.workspace.delete(\"Test WS2\")"
   ]
  },
  {
   "cell_type": "code",
   "execution_count": 20,
   "metadata": {
    "collapsed": false
   },
   "outputs": [
    {
     "name": "stderr",
     "output_type": "stream",
     "text": [
      "2017-02-02 11:48:34,810 requests.packages.urllib3.connectionpool connectionpool[249] INFO: Resetting dropped connection: 10.10.0.204\n"
     ]
    }
   ],
   "source": [
    "session.workspace.create(workspace_name = \"Test WS2\", public = True, summary = \"test\");"
   ]
  },
  {
   "cell_type": "code",
   "execution_count": 21,
   "metadata": {
    "collapsed": false
   },
   "outputs": [
    {
     "data": {
      "text/plain": [
       "{u'archived': False,\n",
       " u'archived_at': None,\n",
       " u'archiver': None,\n",
       " u'complete_json': True,\n",
       " u'datasets_count': 0,\n",
       " u'entity_type': u'workspace',\n",
       " u'has_added_member': False,\n",
       " u'has_added_sandbox': False,\n",
       " u'has_added_workfile': False,\n",
       " u'has_changed_settings': False,\n",
       " u'has_milestones': False,\n",
       " u'has_recent_comments': False,\n",
       " u'id': 946,\n",
       " u'image': {u'complete_json': True,\n",
       "  u'entity_type': u'image',\n",
       "  u'icon': u'',\n",
       "  u'original': u''},\n",
       " u'insights_count': 0,\n",
       " u'is_deleted': None,\n",
       " u'is_member': True,\n",
       " u'is_project': True,\n",
       " u'members_count': 1,\n",
       " u'milestone_completed_count': 0,\n",
       " u'milestone_count': 0,\n",
       " u'name': u'Test WS2',\n",
       " u'owner': {u'admin': True,\n",
       "  u'auth_method': u'internal',\n",
       "  u'complete_json': True,\n",
       "  u'dept': u'Development',\n",
       "  u'email': u'demoadmin@alpinenow.com',\n",
       "  u'entity_type': u'user',\n",
       "  u'first_name': u'Demo',\n",
       "  u'id': 665,\n",
       "  u'image': {u'complete_json': True,\n",
       "   u'entity_type': u'image',\n",
       "   u'icon': u'/users/665/image?style=icon&1483606634',\n",
       "   u'original': u'/users/665/image?style=original&1483606634'},\n",
       "  u'is_deleted': None,\n",
       "  u'last_name': u'Admin',\n",
       "  u'ldap_group_id': None,\n",
       "  u'notes': u'',\n",
       "  u'roles': [u'admin'],\n",
       "  u'subscribed_to_emails': False,\n",
       "  u'tags': [],\n",
       "  u'title': u'Demo',\n",
       "  u'user_type': u'analytics_developer',\n",
       "  u'username': u'demoadmin',\n",
       "  u'using_default_image': True},\n",
       " u'permission': [u'admin', u'create_workflow'],\n",
       " u'project_status': u'on_track',\n",
       " u'project_status_reason': None,\n",
       " u'project_target_date': None,\n",
       " u'public': True,\n",
       " u'recent_comments_count': 0,\n",
       " u'recent_insights_count': 0,\n",
       " u'sandbox_info': None,\n",
       " u'show_sandbox_datasets': True,\n",
       " u'summary': u'test',\n",
       " u'tags': [],\n",
       " u'workfiles_count': 0,\n",
       " u'workspace_stage': {u'complete_json': True,\n",
       "  u'default': True,\n",
       "  u'description_long': u'Define the two essential components of a machine learning project. What business problem are we solving? How should the solution change the way our business operates? Locate or acquire all necessary data.',\n",
       "  u'description_short': u'Define the essential components of the project.',\n",
       "  u'id': 1,\n",
       "  u'name': u'Define',\n",
       "  u'position': 1},\n",
       " u'workspace_stage_id': 1}"
      ]
     },
     "execution_count": 21,
     "metadata": {},
     "output_type": "execute_result"
    }
   ],
   "source": [
    "session.workspace.get_data(\"Test WS2\")"
   ]
  },
  {
   "cell_type": "code",
   "execution_count": 17,
   "metadata": {
    "collapsed": false
   },
   "outputs": [],
   "source": [
    "session.workspace.get_members(\"T.J.\");"
   ]
  },
  {
   "cell_type": "code",
   "execution_count": 19,
   "metadata": {
    "collapsed": false
   },
   "outputs": [
    {
     "data": {
      "text/plain": [
       "{u'archived': False,\n",
       " u'archived_at': None,\n",
       " u'archiver': None,\n",
       " u'complete_json': True,\n",
       " u'datasets_count': 0,\n",
       " u'entity_type': u'workspace',\n",
       " u'has_added_member': False,\n",
       " u'has_added_sandbox': False,\n",
       " u'has_added_workfile': False,\n",
       " u'has_changed_settings': False,\n",
       " u'has_milestones': False,\n",
       " u'has_recent_comments': False,\n",
       " u'id': 946,\n",
       " u'image': {u'complete_json': True,\n",
       "  u'entity_type': u'image',\n",
       "  u'icon': u'',\n",
       "  u'original': u''},\n",
       " u'insights_count': 0,\n",
       " u'is_deleted': None,\n",
       " u'is_member': True,\n",
       " u'is_project': True,\n",
       " u'members_count': 1,\n",
       " u'milestone_completed_count': 0,\n",
       " u'milestone_count': 0,\n",
       " u'name': u'Test WS2',\n",
       " u'owner': {u'admin': True,\n",
       "  u'auth_method': u'internal',\n",
       "  u'complete_json': True,\n",
       "  u'dept': u'Development',\n",
       "  u'email': u'demoadmin@alpinenow.com',\n",
       "  u'entity_type': u'user',\n",
       "  u'first_name': u'Demo',\n",
       "  u'id': 665,\n",
       "  u'image': {u'complete_json': True,\n",
       "   u'entity_type': u'image',\n",
       "   u'icon': u'/users/665/image?style=icon&1483606634',\n",
       "   u'original': u'/users/665/image?style=original&1483606634'},\n",
       "  u'is_deleted': None,\n",
       "  u'last_name': u'Admin',\n",
       "  u'ldap_group_id': None,\n",
       "  u'notes': u'',\n",
       "  u'roles': [u'admin'],\n",
       "  u'subscribed_to_emails': False,\n",
       "  u'tags': [],\n",
       "  u'title': u'Demo',\n",
       "  u'user_type': u'analytics_developer',\n",
       "  u'username': u'demoadmin',\n",
       "  u'using_default_image': True},\n",
       " u'permission': [u'admin', u'create_workflow'],\n",
       " u'project_status': u'on_track',\n",
       " u'project_status_reason': None,\n",
       " u'project_target_date': None,\n",
       " u'public': True,\n",
       " u'recent_comments_count': 0,\n",
       " u'recent_insights_count': 0,\n",
       " u'sandbox_info': None,\n",
       " u'show_sandbox_datasets': True,\n",
       " u'summary': u'test',\n",
       " u'tags': [],\n",
       " u'workfiles_count': 0,\n",
       " u'workspace_stage': {u'complete_json': True,\n",
       "  u'default': True,\n",
       "  u'description_long': u'Define the two essential components of a machine learning project. What business problem are we solving? How should the solution change the way our business operates? Locate or acquire all necessary data.',\n",
       "  u'description_short': u'Define the essential components of the project.',\n",
       "  u'id': 1,\n",
       "  u'name': u'Define',\n",
       "  u'position': 1},\n",
       " u'workspace_stage_id': 1}"
      ]
     },
     "execution_count": 19,
     "metadata": {},
     "output_type": "execute_result"
    }
   ],
   "source": [
    "session.workspace.update_stage(workspace_name = \"Test WS2\", stage=\"Transform\")"
   ]
  },
  {
   "cell_type": "code",
   "execution_count": null,
   "metadata": {
    "collapsed": true
   },
   "outputs": [],
   "source": []
  },
  {
   "cell_type": "code",
   "execution_count": null,
   "metadata": {
    "collapsed": true
   },
   "outputs": [],
   "source": []
  },
  {
   "cell_type": "code",
   "execution_count": null,
   "metadata": {
    "collapsed": true
   },
   "outputs": [],
   "source": []
  }
 ],
 "metadata": {
  "anaconda-cloud": {},
  "kernelspec": {
   "display_name": "Python [conda root]",
   "language": "python",
   "name": "conda-root-py"
  },
  "language_info": {
   "codemirror_mode": {
    "name": "ipython",
    "version": 2
   },
   "file_extension": ".py",
   "mimetype": "text/x-python",
   "name": "python",
   "nbconvert_exporter": "python",
   "pygments_lexer": "ipython2",
   "version": "2.7.13"
  }
 },
 "nbformat": 4,
 "nbformat_minor": 1
}
