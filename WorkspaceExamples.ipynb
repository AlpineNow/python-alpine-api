{
 "cells": [
  {
   "cell_type": "code",
   "execution_count": 1,
   "metadata": {
    "collapsed": true
   },
   "outputs": [],
   "source": [
    "# Login user:\n",
    "username = 'demoadmin'\n",
    "password = 'password'\n",
    "host = \"10.10.0.204\"\n",
    "port = \"8080\""
   ]
  },
  {
   "cell_type": "code",
   "execution_count": 2,
   "metadata": {
    "collapsed": true
   },
   "outputs": [],
   "source": [
    "import api as AlpineAPI\n",
    "from pprint import pprint"
   ]
  },
  {
   "cell_type": "code",
   "execution_count": 3,
   "metadata": {
    "collapsed": false
   },
   "outputs": [
    {
     "name": "stderr",
     "output_type": "stream",
     "text": [
      "2017-01-31 16:05:17,561 requests.packages.urllib3.connectionpool connectionpool[214] INFO: Starting new HTTP connection (1): 10.10.0.204\n"
     ]
    }
   ],
   "source": [
    "session = AlpineAPI.Alpine(host, port, username, password)"
   ]
  },
  {
   "cell_type": "code",
   "execution_count": null,
   "metadata": {
    "collapsed": true
   },
   "outputs": [],
   "source": []
  },
  {
   "cell_type": "code",
   "execution_count": 15,
   "metadata": {
    "collapsed": false
   },
   "outputs": [
    {
     "name": "stderr",
     "output_type": "stream",
     "text": [
      "2017-01-31 16:56:56,030 requests.packages.urllib3.connectionpool connectionpool[249] INFO: Resetting dropped connection: 10.10.0.204\n"
     ]
    }
   ],
   "source": [
    "a = session.workspace.get_workspaces_list(active=False, user_id=7, per_page=100)"
   ]
  },
  {
   "cell_type": "code",
   "execution_count": 19,
   "metadata": {
    "collapsed": false
   },
   "outputs": [
    {
     "data": {
      "text/plain": [
       "{u'archived': False,\n",
       " u'archived_at': None,\n",
       " u'archiver': None,\n",
       " u'complete_json': True,\n",
       " u'datasets_count': 0,\n",
       " u'entity_type': u'workspace',\n",
       " u'has_added_member': True,\n",
       " u'has_added_sandbox': True,\n",
       " u'has_added_workfile': True,\n",
       " u'has_changed_settings': True,\n",
       " u'has_milestones': False,\n",
       " u'has_recent_comments': False,\n",
       " u'id': 687,\n",
       " u'image': {u'complete_json': True,\n",
       "  u'entity_type': u'image',\n",
       "  u'icon': u'',\n",
       "  u'original': u''},\n",
       " u'insights_count': 0,\n",
       " u'is_deleted': None,\n",
       " u'is_member': False,\n",
       " u'is_project': True,\n",
       " u'members_count': 7,\n",
       " u'milestone_completed_count': 0,\n",
       " u'milestone_count': 0,\n",
       " u'name': u'T.J.',\n",
       " u'owner': {u'admin': True,\n",
       "  u'auth_method': u'internal',\n",
       "  u'complete_json': True,\n",
       "  u'dept': u'',\n",
       "  u'email': u'tjbay@alpinenow.com',\n",
       "  u'entity_type': u'user',\n",
       "  u'first_name': u'T.J.',\n",
       "  u'id': 7,\n",
       "  u'image': {u'complete_json': True,\n",
       "   u'entity_type': u'image',\n",
       "   u'icon': u'/users/7/image?style=icon&1482194432',\n",
       "   u'original': u'/users/7/image?style=original&1482194432'},\n",
       "  u'is_deleted': None,\n",
       "  u'last_name': u'Bay',\n",
       "  u'ldap_group_id': None,\n",
       "  u'notes': u'',\n",
       "  u'roles': [u'admin'],\n",
       "  u'subscribed_to_emails': False,\n",
       "  u'tags': [],\n",
       "  u'title': u'',\n",
       "  u'user_type': u'analytics_developer',\n",
       "  u'username': u'tjbay',\n",
       "  u'using_default_image': True},\n",
       " u'permission': [u'admin'],\n",
       " u'project_status': u'on_track',\n",
       " u'project_status_reason': None,\n",
       " u'project_target_date': None,\n",
       " u'public': False,\n",
       " u'recent_comments_count': 0,\n",
       " u'recent_insights_count': 0,\n",
       " u'roles': u'Project Manager',\n",
       " u'sandbox_info': None,\n",
       " u'show_sandbox_datasets': True,\n",
       " u'summary': None,\n",
       " u'tags': [],\n",
       " u'workfiles_count': 8,\n",
       " u'workspace_stage': {u'complete_json': True,\n",
       "  u'default': True,\n",
       "  u'description_long': u'Define the two essential components of a machine learning project. What business problem are we solving? How should the solution change the way our business operates? Locate or acquire all necessary data.',\n",
       "  u'description_short': u'Define the essential components of the project.',\n",
       "  u'id': 1,\n",
       "  u'name': u'Define',\n",
       "  u'position': 1},\n",
       " u'workspace_stage_id': 1}"
      ]
     },
     "execution_count": 19,
     "metadata": {},
     "output_type": "execute_result"
    }
   ],
   "source": [
    "a[1]"
   ]
  },
  {
   "cell_type": "code",
   "execution_count": null,
   "metadata": {
    "collapsed": true
   },
   "outputs": [],
   "source": []
  },
  {
   "cell_type": "code",
   "execution_count": 6,
   "metadata": {
    "collapsed": false
   },
   "outputs": [],
   "source": [
    "a = session.workspace.delete_workspace('test_workspace4')"
   ]
  },
  {
   "cell_type": "code",
   "execution_count": null,
   "metadata": {
    "collapsed": true
   },
   "outputs": [],
   "source": []
  },
  {
   "cell_type": "code",
   "execution_count": null,
   "metadata": {
    "collapsed": true
   },
   "outputs": [],
   "source": []
  },
  {
   "cell_type": "code",
   "execution_count": null,
   "metadata": {
    "collapsed": true
   },
   "outputs": [],
   "source": []
  },
  {
   "cell_type": "code",
   "execution_count": 7,
   "metadata": {
    "collapsed": false
   },
   "outputs": [
    {
     "data": {
      "text/plain": [
       "{}"
      ]
     },
     "execution_count": 7,
     "metadata": {},
     "output_type": "execute_result"
    }
   ],
   "source": [
    "a.json()"
   ]
  },
  {
   "cell_type": "code",
   "execution_count": null,
   "metadata": {
    "collapsed": true
   },
   "outputs": [],
   "source": []
  }
 ],
 "metadata": {
  "anaconda-cloud": {},
  "kernelspec": {
   "display_name": "Python [conda root]",
   "language": "python",
   "name": "conda-root-py"
  },
  "language_info": {
   "codemirror_mode": {
    "name": "ipython",
    "version": 2
   },
   "file_extension": ".py",
   "mimetype": "text/x-python",
   "name": "python",
   "nbconvert_exporter": "python",
   "pygments_lexer": "ipython2",
   "version": "2.7.12"
  }
 },
 "nbformat": 4,
 "nbformat_minor": 1
}
