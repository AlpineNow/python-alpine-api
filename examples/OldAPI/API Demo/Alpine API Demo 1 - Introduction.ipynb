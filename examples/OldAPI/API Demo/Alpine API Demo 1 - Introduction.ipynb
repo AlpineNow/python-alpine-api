{
 "cells": [
  {
   "cell_type": "markdown",
   "metadata": {},
   "source": [
    "# Introduction to the Alpine API 1  \n",
    "## Using Python to run a workflow and how to access and analyze the results.\n",
    "\n",
    "### Resources:\n",
    "1.  [API documentation](https://alpine.atlassian.net/wiki/display/V5/Alpine+API)\n",
    "2.  [API Demo](https://alpine.atlassian.net/wiki/display/V5/Alpine+API+Demo)\n",
    "3.  [Anaconda Python](https://store.continuum.io/cshop/anaconda/) - All-in-one Python distribution.\n",
    "4.  [Jupyter](http://jupyter.org/) - aka iPython notebook.  Included with Anaconda Python.\n",
    "5.  [UCI Machine Learning Repository](http://archive.ics.uci.edu/ml/index.html) - Source of data used in this demo.\n",
    "\n",
    "### To access list of API functions, add /api to your alpine host:port URL.  Example: 10.0.0.216:8080/api\n",
    "\n",
    "### Setup:\n",
    "\n",
    "1.  Create a new workspace called \"API Demos\" on your Alpine installation.\n",
    "1.  Upload the included workflow API_Demo_1.afm into the new workspace.\n",
    "1.  Upload the included data set, (magic04.csv), to your data source.\n",
    "1.  Open the workflow and configure the data set to point to the location of your dataset in HDFS.  The default setting uses Spark to fit the logistic regression model.  You can turn off Spark in the Logistic Regression operator dialogue menu.\n",
    "1.  Run the workflow through the Alpine UI to make sure that everything is configured correctly.\n",
    "\n",
    "### Let's set some values that we'll be using in the demo.  Please update this cell with correct information:"
   ]
  },
  {
   "cell_type": "code",
   "execution_count": 1,
   "metadata": {
    "collapsed": false
   },
   "outputs": [],
   "source": [
    "username = \"apidemo\"\n",
    "password = \"apidemo\"\n",
    "alpine_base_url = \"http://54.183.194.189:8080\""
   ]
  },
  {
   "cell_type": "markdown",
   "metadata": {},
   "source": [
    "### To get the workflow id, look for the integer value following `/#work_flows/` in the url of the open work flow.  \n",
    "### Example: if the url is http://54.183.194.189:8080/#work_flows/2263 the `workflow_id` is 2263"
   ]
  },
  {
   "cell_type": "code",
   "execution_count": 2,
   "metadata": {
    "collapsed": true
   },
   "outputs": [],
   "source": [
    "workflow_id = 2263"
   ]
  },
  {
   "cell_type": "markdown",
   "metadata": {},
   "source": [
    "### Let's do some setup by importing some libraries and starting a requests session."
   ]
  },
  {
   "cell_type": "code",
   "execution_count": 8,
   "metadata": {
    "collapsed": true
   },
   "outputs": [],
   "source": [
    "import requests\n",
    "import json\n",
    "from pprint import pprint\n",
    "import time\n",
    "from IPython.display import Image\n",
    "\n",
    "start_index = alpine_base_url.find(\"://\") + 3\n",
    "host_info = alpine_base_url[start_index:]\n",
    "\n",
    "alpine_session = requests.Session()\n",
    "alpine_session.headers.update({\"Host\": host_info})"
   ]
  },
  {
   "cell_type": "markdown",
   "metadata": {},
   "source": [
    "### Some of the API calls are going to be used many times in this demo.  To keep organized, and to reduce repeated code, I'll wrap these API calls in a function.  Here's one for logging in to Alpine.  First, we build the correct URL and body information to authenticate.  Getting a JSON object in response indicates a succesful login.  We will need to use the session_id later, so I'll return it from `login()` and save it."
   ]
  },
  {
   "cell_type": "code",
   "execution_count": 9,
   "metadata": {
    "collapsed": false
   },
   "outputs": [
    {
     "name": "stdout",
     "output_type": "stream",
     "text": [
      "POSTING to URL: http://10.0.0.206:8080/sessions?session_id=NULL with Payload: {\"username\": \"tjbay\", \"password\": \"alpineRocks!23\"}\n",
      "Session ID = 0fb4e73998bf18c7f38ebfb3de7657909a4dbc1a. (-1 indicates a failed login)\n"
     ]
    }
   ],
   "source": [
    "def login():\n",
    "    token = -1\n",
    "    \n",
    "    login_url = alpine_base_url + \"/sessions?session_id=NULL\"\n",
    "    body = {\"username\": username, \"password\": password}\n",
    "    login_response = alpine_session.post(login_url, data=body)\n",
    "    \n",
    "    print(\"POSTING to URL: {0} with Payload: {1}\".format(login_url, json.dumps(body)))\n",
    "\n",
    "    if login_response.status_code == 201:\n",
    "        token = login_response.json()['response']['session_id']\n",
    "    else: \n",
    "        print login_response.status_code\n",
    "        \n",
    "    return token\n",
    " \n",
    "session_id = login()\n",
    "print(\"Session ID = {}. (-1 indicates a failed login)\".format(session_id))"
   ]
  },
  {
   "cell_type": "markdown",
   "metadata": {},
   "source": [
    "### Here's the *API Demo 1* workflow.  It's a basic classification workflow, using a test/train split to verify that our logistic regression model generalizes well to the test data.\n"
   ]
  },
  {
   "cell_type": "code",
   "execution_count": 22,
   "metadata": {
    "collapsed": false
   },
   "outputs": [
    {
     "data": {
      "image/png": "[encoded data removed]",
      "text/plain": [
       "<IPython.core.display.Image object>"
      ]
     },
     "execution_count": 22,
     "metadata": {},
     "output_type": "execute_result"
    }
   ],
   "source": [
    "Image(filename='Images/Demo1.png')"
   ]
  },
  {
   "cell_type": "markdown",
   "metadata": {},
   "source": [
    "### Let's run the workflow through a post.  We'll have this function return a process id, a unique identifier for this run.  We can use the id later to query or download flow results."
   ]
  },
  {
   "cell_type": "code",
   "execution_count": 84,
   "metadata": {
    "collapsed": false
   },
   "outputs": [
    {
     "name": "stdout",
     "output_type": "stream",
     "text": [
      "http://54.183.194.189:8080/alpinedatalabs/api/v1/json/workflows/2263/run\n",
      "{\"meta\":{\"workflowId\":\"2263\",\"processId\":\"79d071e0-93de-47bc-b0bc-5316b53d55f4\",\"user\":\"111\",\"state\":\"STARTED\"},\"message\":\"workflow started\",\"results\":\"\"}\n",
      "\n",
      "79d071e0-93de-47bc-b0bc-5316b53d55f4\n"
     ]
    }
   ],
   "source": [
    "def run_workflow(wid):\n",
    "    \n",
    "    run_url = alpine_base_url + \"/alpinedatalabs/api/v1/json/workflows/\" + str(wid) + \"/run\" #+ \"?saveResult=true\"\n",
    "    print run_url\n",
    "    \n",
    "    chorus_host = alpine_base_url.split(\"http://\")[1]\n",
    "    \n",
    "    alpine_session.headers.update({\"x-token\": session_id})\n",
    "    alpine_session.headers.update({\"Host\": chorus_host})\n",
    "    alpine_session.headers.update({\"Content-Type\": \"application/json\"})\n",
    "    run_response = alpine_session.post(run_url, timeout=30)\n",
    "    \n",
    "    print run_response.content\n",
    "        \n",
    "    process_id = run_response.json()['meta']['processId']\n",
    "    return process_id\n",
    "    \n",
    "process_id = run_workflow(workflow_id)\n",
    "print(process_id)"
   ]
  },
  {
   "cell_type": "markdown",
   "metadata": {},
   "source": [
    "### Workflows can take a while to complete.  We can poll the status of the workflow using the `/query` endpoint.  You can run this cell several times to see how the status changes as the workflow progresses.  A `response.text` string of 'Workflow not started or already stopped' indicates that the workflow has completed."
   ]
  },
  {
   "cell_type": "code",
   "execution_count": 85,
   "metadata": {
    "collapsed": false
   },
   "outputs": [
    {
     "name": "stdout",
     "output_type": "stream",
     "text": [
      "{\"meta\":{\"workflowId\":\"2263\",\"processId\":\"79d071e0-93de-47bc-b0bc-5316b53d55f4\",\"user\":\"111\",\"state\":\"NODE_STARTED\"},\"nodeInfo\":{\"nodeId\":\"1434394448655\",\"nodeName\":\"Random Sampling\"},\"message\":\" started running...\",\"results\":\"\"}\n",
      "\n"
     ]
    }
   ],
   "source": [
    "query_url = alpine_base_url + \"/alpinedatalabs/api/v1/json/processes/\" + str(process_id) + \"/query\"\n",
    "alpine_session.headers.update({\"x-token\": session_id})\n",
    "alpine_session.headers.update({\"Content-Type\": \"application/json\"})\n",
    "query_response = alpine_session.get(query_url, timeout=60)\n",
    "print(query_response.text)"
   ]
  },
  {
   "cell_type": "markdown",
   "metadata": {},
   "source": [
    "### We could continue to run the previous cell over and over to test if the workflow is complete, but it's better to write a function that periodically tests it for us until it is finished.\n",
    "\n",
    "### Run the next cell while the workflow is still in progress."
   ]
  },
  {
   "cell_type": "code",
   "execution_count": 86,
   "metadata": {
    "collapsed": false
   },
   "outputs": [
    {
     "name": "stdout",
     "output_type": "stream",
     "text": [
      "Workflow finished in ~65.4 seconds.\n"
     ]
    }
   ],
   "source": [
    "def get_workflow_status(pid, sid):\n",
    "    \n",
    "    query_url = alpine_base_url + \"/alpinedatalabs/api/v1/json/processes/\" + str(pid) + \"/query\"\n",
    "    alpine_session.headers.update({\"x-token\": sid})\n",
    "    alpine_session.headers.update({\"Content-Type\": \"application/json\"})\n",
    "    \n",
    "    status_response = alpine_session.get(query_url, timeout=60)\n",
    "    \n",
    "    in_progress_states = [\"IN_PROGRESS\", \"NODE_STARTED\", \"STARTED\", \"NODE_FINISHED\"]\n",
    "    if status_response.status_code == 200:\n",
    "        try:\n",
    "            if status_response.json()['meta']['state'] in in_progress_states:\n",
    "                return \"WORKING\"\n",
    "        except ValueError:\n",
    "            if status_response.text == 'Workflow not started or already stopped.\\n' or resp.text == \"invalid processId or workflow already stopped.\\n\":\n",
    "                return \"FINISHED\"\n",
    "            else:\n",
    "                return \"FAILED\"\n",
    "    else:\n",
    "        raise Exception(\"Workflow failed with status {0}: {1}\".format(status_response.status_code, status_response.reason))\n",
    "        \n",
    "\n",
    "def wait_for_workflow_to_finish(sid, wid, pid, wait_time=5):\n",
    "    \n",
    "    time_elapsed = 0\n",
    "    start_time = time.time()\n",
    "    \n",
    "    while get_workflow_status(pid, sid) == \"WORKING\":\n",
    "            \n",
    "            time_elapsed = time.time() - start_time\n",
    "            print(\"\\rWorkflow in progress for ~{0:.1f} seconds.\".format(time_elapsed)),\n",
    "            time.sleep(wait_time)\n",
    "                \n",
    "    print(\"\\rWorkflow finished in ~{0:.1f} seconds.\".format(time_elapsed))\n",
    "    \n",
    "\n",
    "wait_for_workflow_to_finish(session_id, workflow_id, process_id)"
   ]
  },
  {
   "cell_type": "markdown",
   "metadata": {},
   "source": [
    "### Now we can download the result.  `workflow_result` contains all the information that appears in the bottom window of the Alpine workflow editor, along with some logs and metadata.   To access that information we can convert it from a JSON string to a nested dict/list python object.  This can potentially be quite large.  Generally, we won't want to print it to screen, but go ahead and do it once if you are curious.\n"
   ]
  },
  {
   "cell_type": "code",
   "execution_count": 89,
   "metadata": {
    "collapsed": false
   },
   "outputs": [],
   "source": [
    "def get_workflow_results(wid, pid):\n",
    "    result_url = alpine_base_url + \"/alpinedatalabs/api/v1/json/workflows/\" + str(workflow_id) + \"/results/\" + str(process_id)\n",
    "    response = alpine_session.get(result_url)\n",
    "    return response\n",
    "    \n",
    "workflow_result = get_workflow_results(workflow_id, process_id)\n",
    "result = json.loads(workflow_result.json())\n",
    "#pprint(result)"
   ]
  },
  {
   "cell_type": "markdown",
   "metadata": {},
   "source": [
    "###  The output  from each operator is stored in the list `result['outputs']`.  For instance, the name of the ith operator can be found at `result['outputs'][i]['out_title']`."
   ]
  },
  {
   "cell_type": "code",
   "execution_count": 90,
   "metadata": {
    "collapsed": false
   },
   "outputs": [
    {
     "name": "stdout",
     "output_type": "stream",
     "text": [
      "Number of operators in workflow = 6\n",
      "Name of the 3rd operator is 'Train (1000 rows)'\n"
     ]
    }
   ],
   "source": [
    "operator_list = result['outputs']\n",
    "print(\"Number of operators in workflow = {}\".format(len(operator_list)))\n",
    "print(\"Name of the 3rd operator is '{}'\".format(operator_list[3]['out_title']))"
   ]
  },
  {
   "cell_type": "markdown",
   "metadata": {},
   "source": [
    "### We are interested in knowing the prediction accuracy of our trained logistic regression model on the test set.  In the workflow, this is calculated in the *Confusion Matrix* operator.  We can iterate over this list to find the operator that has the matching name."
   ]
  },
  {
   "cell_type": "code",
   "execution_count": 91,
   "metadata": {
    "collapsed": false,
    "scrolled": true
   },
   "outputs": [
    {
     "name": "stdout",
     "output_type": "stream",
     "text": [
      "{u'isGenerateReport': True,\n",
      " u'out_id': 1476467866353.8694,\n",
      " u'out_title': u'Confusion Matrix',\n",
      " u'visualData': [{u'isGenerateReport': True,\n",
      "                  u'out_id': 1476467866350.943,\n",
      "                  u'out_title': u'Logistic Regression: Data',\n",
      "                  u'visualData': {u'columnTypes': [u'cate',\n",
      "                                                   u'cate',\n",
      "                                                   u'cate',\n",
      "                                                   u'cate'],\n",
      "                                  u'columns': [u' ',\n",
      "                                               u'Predicted (0)',\n",
      "                                               u'Predicted (1)',\n",
      "                                               u'Class Recall'],\n",
      "                                  u'fixedNumberOfColumns': 0,\n",
      "                                  u'items': [{u' ': u'Observed (0)',\n",
      "                                              u'Class Recall': u'0.4559',\n",
      "                                              u'Predicted (0)': u'31',\n",
      "                                              u'Predicted (1)': u'37'},\n",
      "                                             {u' ': u'Observed (1)',\n",
      "                                              u'Class Recall': u'0.9299',\n",
      "                                              u'Predicted (0)': u'11',\n",
      "                                              u'Predicted (1)': u'146'},\n",
      "                                             {u' ': u'Class Precision',\n",
      "                                              u'Class Recall': u'Accuracy: 0.7867',\n",
      "                                              u'Predicted (0)': u'0.7381',\n",
      "                                              u'Predicted (1)': u'0.7978'}]},\n",
      "                  u'visualType': 0},\n",
      "                 {u'isGenerateReport': True,\n",
      "                  u'out_id': 1476467866353.2314,\n",
      "                  u'out_title': u'Logistic Regression: Heat Map',\n",
      "                  u'visualData': {u'analyticNodeMetaInfo': None,\n",
      "                                  u'error': False,\n",
      "                                  u'errorMessage': [],\n",
      "                                  u'heatMapTable': {u'YValues': [u'0',\n",
      "                                                                 u'1'],\n",
      "                                                    u'accuracy': 0.7866666913032532,\n",
      "                                                    u'modelName': u'Logistic Regression',\n",
      "                                                    u'rowsIntensity': [{u'data': [u'0.46',\n",
      "                                                                                  u'0.54'],\n",
      "                                                                        u'sequence': 0},\n",
      "                                                                       {u'data': [u'0.07',\n",
      "                                                                                  u'0.93'],\n",
      "                                                                        u'sequence': 1}],\n",
      "                                                    u'rowsValue': [{u'data': [u'31',\n",
      "                                                                              u'37'],\n",
      "                                                                    u'sequence': 0},\n",
      "                                                                   {u'data': [u'11',\n",
      "                                                                              u'146'],\n",
      "                                                                    u'sequence': 1}]},\n",
      "                                  u'needGenerateReport': True,\n",
      "                                  u'operatorInputs': [],\n",
      "                                  u'title': u'Logistic Regression: Heat Map',\n",
      "                                  u'visualizationType': 20},\n",
      "                  u'visualType': 20}],\n",
      " u'visualType': 6}\n"
     ]
    }
   ],
   "source": [
    "def find_operator(name, oper_list):\n",
    "    for oper in oper_list:\n",
    "        if oper['out_title'] == name:\n",
    "            return oper\n",
    "    return []\n",
    "\n",
    "matching_name = 'Confusion Matrix'\n",
    "output_operator = find_operator(matching_name, operator_list)\n",
    "pprint(output_operator)"
   ]
  },
  {
   "cell_type": "markdown",
   "metadata": {},
   "source": [
    "### Each operator has a different data output format, but for a *Confusion Matrix*, we can find the prediction accuracy on the test set like this."
   ]
  },
  {
   "cell_type": "code",
   "execution_count": 92,
   "metadata": {
    "collapsed": false
   },
   "outputs": [
    {
     "name": "stdout",
     "output_type": "stream",
     "text": [
      "Accuracy = 78.7%\n"
     ]
    }
   ],
   "source": [
    "acc = output_operator['visualData'][1]['visualData']['heatMapTable']['accuracy']\n",
    "print(\"Accuracy = {0:.1f}%\".format(acc*100))"
   ]
  },
  {
   "cell_type": "code",
   "execution_count": null,
   "metadata": {
    "collapsed": true
   },
   "outputs": [],
   "source": [
    ""
   ]
  }
 ],
 "metadata": {
  "anaconda-cloud": {},
  "kernelspec": {
   "display_name": "Python [conda root]",
   "language": "python",
   "name": "conda-root-py"
  },
  "language_info": {
   "codemirror_mode": {
    "name": "ipython",
    "version": 2.0
   },
   "file_extension": ".py",
   "mimetype": "text/x-python",
   "name": "python",
   "nbconvert_exporter": "python",
   "pygments_lexer": "ipython2",
   "version": "2.7.12"
  }
 },
 "nbformat": 4,
 "nbformat_minor": 0
}