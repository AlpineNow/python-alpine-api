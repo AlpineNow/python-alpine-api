{
 "cells": [
  {
   "cell_type": "code",
   "execution_count": 41,
   "metadata": {
    "collapsed": false
   },
   "outputs": [],
   "source": [
    "username = ''\n",
    "password = ''"
   ]
  },
  {
   "cell_type": "code",
   "execution_count": 42,
   "metadata": {
    "collapsed": false
   },
   "outputs": [
    {
     "data": {
      "text/plain": [
       "<module 'api' from 'api/__init__.py'>"
      ]
     },
     "execution_count": 42,
     "metadata": {},
     "output_type": "execute_result"
    }
   ],
   "source": [
    "import api\n",
    "reload(api)"
   ]
  },
  {
   "cell_type": "code",
   "execution_count": 43,
   "metadata": {
    "collapsed": false
   },
   "outputs": [],
   "source": [
    "session = api.Chorus(\"10.10.0.204\", \"8080\")"
   ]
  },
  {
   "cell_type": "code",
   "execution_count": 44,
   "metadata": {
    "collapsed": false,
    "scrolled": true
   },
   "outputs": [
    {
     "name": "stderr",
     "output_type": "stream",
     "text": [
      "2017-01-09 17:00:45,770 requests.packages.urllib3.connectionpool connectionpool[214] INFO: Starting new HTTP connection (1): 10.10.0.204\n"
     ]
    }
   ],
   "source": [
    "session.login(username, password);"
   ]
  },
  {
   "cell_type": "code",
   "execution_count": 45,
   "metadata": {
    "collapsed": false
   },
   "outputs": [],
   "source": [
    "wsession = api.Workfile(session)\n",
    "ws_session = api.Workspace(session)"
   ]
  },
  {
   "cell_type": "code",
   "execution_count": 46,
   "metadata": {
    "collapsed": false
   },
   "outputs": [],
   "source": [
    "wsid = ws_session.get_workspace_id(\"T.J.\")"
   ]
  },
  {
   "cell_type": "code",
   "execution_count": 47,
   "metadata": {
    "collapsed": false,
    "scrolled": true
   },
   "outputs": [
    {
     "data": {
      "text/plain": [
       "[{u'admin': False,\n",
       "  u'auth_method': u'internal',\n",
       "  u'complete_json': True,\n",
       "  u'dept': u'',\n",
       "  u'email': u'rkaur@alpinenow.com',\n",
       "  u'entity_type': u'user',\n",
       "  u'first_name': u'Ravneet',\n",
       "  u'id': 81,\n",
       "  u'image': {u'complete_json': True,\n",
       "   u'entity_type': u'image',\n",
       "   u'icon': u'/users/81/image?style=icon&1483569294',\n",
       "   u'original': u'/users/81/image?style=original&1483569294'},\n",
       "  u'is_deleted': None,\n",
       "  u'last_name': u'Kaur',\n",
       "  u'ldap_group_id': None,\n",
       "  u'notes': u'',\n",
       "  u'role': u'Project Member',\n",
       "  u'roles': [],\n",
       "  u'subscribed_to_emails': False,\n",
       "  u'tags': [],\n",
       "  u'title': u'',\n",
       "  u'user_type': u'collaborator',\n",
       "  u'username': u'ravneet2',\n",
       "  u'using_default_image': True},\n",
       " {u'admin': False,\n",
       "  u'auth_method': u'internal',\n",
       "  u'complete_json': True,\n",
       "  u'dept': u'',\n",
       "  u'email': u'rkaur@alpinenow.com',\n",
       "  u'entity_type': u'user',\n",
       "  u'first_name': u'Ravneet',\n",
       "  u'id': 80,\n",
       "  u'image': {u'complete_json': True,\n",
       "   u'entity_type': u'image',\n",
       "   u'icon': u'/users/80/image?style=icon&1483569232',\n",
       "   u'original': u'/users/80/image?style=original&1483569232'},\n",
       "  u'is_deleted': None,\n",
       "  u'last_name': u'Kaur',\n",
       "  u'ldap_group_id': None,\n",
       "  u'notes': u'',\n",
       "  u'role': u'Project Member',\n",
       "  u'roles': [],\n",
       "  u'subscribed_to_emails': False,\n",
       "  u'tags': [],\n",
       "  u'title': u'',\n",
       "  u'user_type': u'analytics_developer',\n",
       "  u'username': u'ravneet',\n",
       "  u'using_default_image': True},\n",
       " {u'admin': True,\n",
       "  u'auth_method': u'internal',\n",
       "  u'complete_json': True,\n",
       "  u'dept': u'',\n",
       "  u'email': u'rkaur@alpinenow.com',\n",
       "  u'entity_type': u'user',\n",
       "  u'first_name': u'Ravneet',\n",
       "  u'id': 9,\n",
       "  u'image': {u'complete_json': True,\n",
       "   u'entity_type': u'image',\n",
       "   u'icon': u'/users/9/image?style=icon&1482295552',\n",
       "   u'original': u'/users/9/image?style=original&1482295552'},\n",
       "  u'is_deleted': None,\n",
       "  u'last_name': u'Kaur',\n",
       "  u'ldap_group_id': None,\n",
       "  u'notes': u'',\n",
       "  u'role': u'Project Member',\n",
       "  u'roles': [u'admin'],\n",
       "  u'subscribed_to_emails': False,\n",
       "  u'tags': [],\n",
       "  u'title': u'',\n",
       "  u'user_type': u'analytics_developer',\n",
       "  u'username': u'rkaur',\n",
       "  u'using_default_image': True},\n",
       " {u'admin': True,\n",
       "  u'auth_method': u'internal',\n",
       "  u'complete_json': True,\n",
       "  u'dept': u'QA',\n",
       "  u'email': u'ggao@alpinenow.com',\n",
       "  u'entity_type': u'user',\n",
       "  u'first_name': u'Guohui',\n",
       "  u'id': 2,\n",
       "  u'image': {u'complete_json': True,\n",
       "   u'entity_type': u'image',\n",
       "   u'icon': u'/users/2/image?style=icon&1481638756',\n",
       "   u'original': u'/users/2/image?style=original&1481638756'},\n",
       "  u'is_deleted': None,\n",
       "  u'last_name': u'Gao',\n",
       "  u'ldap_group_id': None,\n",
       "  u'notes': u'',\n",
       "  u'role': u'Project Member',\n",
       "  u'roles': [u'admin'],\n",
       "  u'subscribed_to_emails': False,\n",
       "  u'tags': [],\n",
       "  u'title': u'QA',\n",
       "  u'user_type': u'analytics_developer',\n",
       "  u'username': u'ggao',\n",
       "  u'using_default_image': True},\n",
       " {u'admin': True,\n",
       "  u'auth_method': u'internal',\n",
       "  u'complete_json': True,\n",
       "  u'dept': u'',\n",
       "  u'email': u'tjbay@alpinenow.com',\n",
       "  u'entity_type': u'user',\n",
       "  u'first_name': u'T.J.',\n",
       "  u'id': 7,\n",
       "  u'image': {u'complete_json': True,\n",
       "   u'entity_type': u'image',\n",
       "   u'icon': u'/users/7/image?style=icon&1482194432',\n",
       "   u'original': u'/users/7/image?style=original&1482194432'},\n",
       "  u'is_deleted': None,\n",
       "  u'last_name': u'Bay',\n",
       "  u'ldap_group_id': None,\n",
       "  u'notes': u'',\n",
       "  u'role': u'Project Manager',\n",
       "  u'roles': [u'admin'],\n",
       "  u'subscribed_to_emails': False,\n",
       "  u'tags': [],\n",
       "  u'title': u'',\n",
       "  u'user_type': u'analytics_developer',\n",
       "  u'username': u'tjbay',\n",
       "  u'using_default_image': True}]"
      ]
     },
     "execution_count": 47,
     "metadata": {},
     "output_type": "execute_result"
    }
   ],
   "source": [
    "ws_session.get_member_list_for_workspace(\"T.J.\")"
   ]
  },
  {
   "cell_type": "code",
   "execution_count": 50,
   "metadata": {
    "collapsed": false
   },
   "outputs": [],
   "source": [
    "wfid = wsession.get_workfile_id(\"SQL test\", wsid)"
   ]
  },
  {
   "cell_type": "code",
   "execution_count": 51,
   "metadata": {
    "collapsed": false
   },
   "outputs": [
    {
     "ename": "RunFlowFailureException",
     "evalue": "ChorusException: Run Workflow 164 failed with status code 400",
     "output_type": "error",
     "traceback": [
      "\u001b[0;31m---------------------------------------------------------------------------\u001b[0m",
      "\u001b[0;31mRunFlowFailureException\u001b[0m                   Traceback (most recent call last)",
      "\u001b[0;32m<ipython-input-51-552ec88eee9c>\u001b[0m in \u001b[0;36m<module>\u001b[0;34m()\u001b[0m\n\u001b[0;32m----> 1\u001b[0;31m \u001b[0mwsession\u001b[0m\u001b[0;34m.\u001b[0m\u001b[0mrun_workflow\u001b[0m\u001b[0;34m(\u001b[0m\u001b[0mwfid\u001b[0m\u001b[0;34m)\u001b[0m\u001b[0;34m\u001b[0m\u001b[0m\n\u001b[0m",
      "\u001b[0;32m/Users/tjbay/Desktop/python-alpine-api/api/workfile.py\u001b[0m in \u001b[0;36mrun_workflow\u001b[0;34m(self, workflow_id, variables)\u001b[0m\n\u001b[1;32m    104\u001b[0m         \u001b[0;32melse\u001b[0m\u001b[0;34m:\u001b[0m\u001b[0;34m\u001b[0m\u001b[0m\n\u001b[1;32m    105\u001b[0m             raise RunFlowFailureException(\n\u001b[0;32m--> 106\u001b[0;31m                 \"Run Workflow {0} failed with status code {1}\".format(workflow_id, response.status_code))\n\u001b[0m\u001b[1;32m    107\u001b[0m \u001b[0;34m\u001b[0m\u001b[0m\n\u001b[1;32m    108\u001b[0m     \u001b[0;32mdef\u001b[0m \u001b[0mquery_workflow_status\u001b[0m\u001b[0;34m(\u001b[0m\u001b[0mself\u001b[0m\u001b[0;34m,\u001b[0m \u001b[0mprocess_id\u001b[0m\u001b[0;34m)\u001b[0m\u001b[0;34m:\u001b[0m\u001b[0;34m\u001b[0m\u001b[0m\n",
      "\u001b[0;31mRunFlowFailureException\u001b[0m: ChorusException: Run Workflow 164 failed with status code 400"
     ]
    }
   ],
   "source": [
    "wsession.run_workflow(wfid)"
   ]
  },
  {
   "cell_type": "code",
   "execution_count": null,
   "metadata": {
    "collapsed": true
   },
   "outputs": [],
   "source": []
  }
 ],
 "metadata": {
  "anaconda-cloud": {},
  "kernelspec": {
   "display_name": "Python [conda root]",
   "language": "python",
   "name": "conda-root-py"
  },
  "language_info": {
   "codemirror_mode": {
    "name": "ipython",
    "version": 2
   },
   "file_extension": ".py",
   "mimetype": "text/x-python",
   "name": "python",
   "nbconvert_exporter": "python",
   "pygments_lexer": "ipython2",
   "version": "2.7.12"
  }
 },
 "nbformat": 4,
 "nbformat_minor": 1
}
