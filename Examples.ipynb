{
 "cells": [
  {
   "cell_type": "code",
   "execution_count": 1,
   "metadata": {
    "collapsed": false
   },
   "outputs": [],
   "source": [
    "username = 'demoadmin'\n",
    "password = 'password'\n",
    "host = \"10.10.0.204\"\n",
    "port = \"8080\"\n",
    "\n",
    "workfile_id = \"297\"\n",
    "variables = [{\"name\": \"@min_credit_line\", \"value\": \"7\"}]"
   ]
  },
  {
   "cell_type": "code",
   "execution_count": 2,
   "metadata": {
    "collapsed": false
   },
   "outputs": [],
   "source": [
    "from api.alpine import Alpine"
   ]
  },
  {
   "cell_type": "code",
   "execution_count": 3,
   "metadata": {
    "collapsed": false
   },
   "outputs": [
    {
     "name": "stderr",
     "output_type": "stream",
     "text": [
      "2017-01-17 13:27:51,551 requests.packages.urllib3.connectionpool connectionpool[214] INFO: Starting new HTTP connection (1): 10.10.0.204\n"
     ]
    },
    {
     "data": {
      "text/plain": [
       "665"
      ]
     },
     "execution_count": 3,
     "metadata": {},
     "output_type": "execute_result"
    }
   ],
   "source": [
    "session = Alpine(host, port, username, password)\n",
    "session.get_login_status().get(\"response\").get(\"user\").get(\"id\")"
   ]
  },
  {
   "cell_type": "code",
   "execution_count": 4,
   "metadata": {},
   "outputs": [
    {
     "name": "stdout",
     "output_type": "stream",
     "text": [
      "Workfile Name, ID\ndb_row_fil_with_variable, 297\ndemo_hadoop_row_filter_regression, 298\n"
     ]
    }
   ],
   "source": [
    "workfiles = session.workfile.get_workfiles_list(932)\n",
    "\n",
    "print(\"Workfile Name, ID\")\n",
    "\n",
    "for workfile in workfiles:\n",
    "    print(\"{}, {}\".format(workfile.get(\"file_name\"),workfile.get(\"id\")))"
   ]
  },
  {
   "cell_type": "code",
   "execution_count": 24,
   "metadata": {},
   "outputs": [
    {
     "data": {
      "text/plain": [
       "'FINISHED'"
      ]
     },
     "execution_count": 24,
     "metadata": {},
     "output_type": "execute_result"
    }
   ],
   "source": [
    "process_id = session.workfile.run_workflow(workfile_id, [])\n",
    "session.workfile.wait_for_workflow_finished(process_id)"
   ]
  },
  {
   "cell_type": "code",
   "execution_count": null,
   "metadata": {},
   "outputs": [],
   "source": [
    ""
   ]
  }
 ],
 "metadata": {
  "anaconda-cloud": {},
  "kernelspec": {
   "display_name": "Python [conda root]",
   "language": "python",
   "name": "conda-root-py"
  },
  "language_info": {
   "codemirror_mode": {
    "name": "ipython",
    "version": 2.0
   },
   "file_extension": ".py",
   "mimetype": "text/x-python",
   "name": "python",
   "nbconvert_exporter": "python",
   "pygments_lexer": "ipython2",
   "version": "2.7.12"
  }
 },
 "nbformat": 4,
 "nbformat_minor": 0
}