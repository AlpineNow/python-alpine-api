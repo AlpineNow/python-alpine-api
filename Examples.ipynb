{
 "cells": [
  {
   "cell_type": "code",
   "execution_count": 1,
   "metadata": {
    "collapsed": false
   },
   "outputs": [],
   "source": [
    "username = 'demoadmin'\n",
    "password = 'password'\n",
    "host = \"10.10.0.204\"\n",
    "port = \"8080\"\n",
    "workfile_id = \"297\""
   ]
  },
  {
   "cell_type": "code",
   "execution_count": 2,
   "metadata": {
    "collapsed": false
   },
   "outputs": [],
   "source": [
    "from api.alpine import Alpine"
   ]
  },
  {
   "cell_type": "code",
   "execution_count": 3,
   "metadata": {
    "collapsed": false
   },
   "outputs": [
    {
     "name": "stderr",
     "output_type": "stream",
     "text": [
      "2017-01-17 12:06:10,275 requests.packages.urllib3.connectionpool connectionpool[214] INFO: Starting new HTTP connection (1): 10.10.0.204\n"
     ]
    },
    {
     "data": {
      "text/plain": [
       "{u'response': {u'session_id': u'nxYKqDzbehxYsNGfdapk',\n  u'user': {u'admin': True,\n   u'auth_method': u'internal',\n   u'dept': u'Development',\n   u'email': u'demoadmin@alpinenow.com',\n   u'entity_type': u'user',\n   u'first_name': u'Demo',\n   u'id': 665,\n   u'image': {u'complete_json': True,\n    u'entity_type': u'image',\n    u'icon': u'/users/665/image?style=icon&1483606634',\n    u'original': u'/users/665/image?style=original&1483606634'},\n   u'is_deleted': None,\n   u'last_name': u'Admin',\n   u'ldap_group_id': None,\n   u'notes': u'',\n   u'roles': [u'admin'],\n   u'subscribed_to_emails': False,\n   u'tags': [],\n   u'title': u'Demo',\n   u'user_type': u'analytics_developer',\n   u'username': u'demoadmin',\n   u'using_default_image': True}}}"
      ]
     },
     "execution_count": 3,
     "metadata": {},
     "output_type": "execute_result"
    }
   ],
   "source": [
    "session = Alpine(host, port, username, password)\n",
    "session.get_login_status()"
   ]
  },
  {
   "cell_type": "code",
   "execution_count": 4,
   "metadata": {},
   "outputs": [
    {
     "name": "stdout",
     "output_type": "stream",
     "text": [
      "Workfile Name, ID\ndb_row_fil_with_variable, 297\ndemo_hadoop_row_filter_regression, 298\n"
     ]
    }
   ],
   "source": [
    "workfiles = session.workfile.get_workfiles_list(932)\n",
    "\n",
    "print(\"Workfile Name, ID\")\n",
    "\n",
    "for workfile in workfiles:\n",
    "    print(\"{}, {}\".format(workfile.get(\"file_name\"),workfile.get(\"id\")))"
   ]
  },
  {
   "cell_type": "code",
   "execution_count": 5,
   "metadata": {},
   "outputs": [
    {
     "name": "stdout",
     "output_type": "stream",
     "text": [
      "http://10.10.0.204:8080/alpinedatalabs/api/v1/json/workflows/297/run?saveResult=true\n"
     ]
    },
    {
     "ename": "RunFlowFailureException",
     "evalue": "AlpineException: Run Workflow 297 failed with status code 401",
     "traceback": [
      "\u001b[0;31m\u001b[0m",
      "\u001b[0;31mRunFlowFailureException\u001b[0mTraceback (most recent call last)",
      "\u001b[0;32m<ipython-input-5-23594fc758a4>\u001b[0m in \u001b[0;36m<module>\u001b[0;34m()\u001b[0m\n\u001b[0;32m----> 1\u001b[0;31m \u001b[0msession\u001b[0m\u001b[0;34m.\u001b[0m\u001b[0mworkfile\u001b[0m\u001b[0;34m.\u001b[0m\u001b[0mrun_workflow\u001b[0m\u001b[0;34m(\u001b[0m\u001b[0;34m\"297\"\u001b[0m\u001b[0;34m)\u001b[0m\u001b[0;34m\u001b[0m\u001b[0m\n\u001b[0m",
      "\u001b[0;32m/Users/tjbay/Desktop/python-alpine-api/api/workfile.py\u001b[0m in \u001b[0;36mrun_workflow\u001b[0;34m(self, workflow_id, variables)\u001b[0m\n\u001b[1;32m    108\u001b[0m         \u001b[0;32melse\u001b[0m\u001b[0;34m:\u001b[0m\u001b[0;34m\u001b[0m\u001b[0m\n\u001b[1;32m    109\u001b[0m             raise RunFlowFailureException(\n\u001b[0;32m--> 110\u001b[0;31m                 \"Run Workflow {0} failed with status code {1}\".format(workflow_id, response.status_code))\n\u001b[0m\u001b[1;32m    111\u001b[0m \u001b[0;34m\u001b[0m\u001b[0m\n\u001b[1;32m    112\u001b[0m     \u001b[0;32mdef\u001b[0m \u001b[0mquery_workflow_status\u001b[0m\u001b[0;34m(\u001b[0m\u001b[0mself\u001b[0m\u001b[0;34m,\u001b[0m \u001b[0mprocess_id\u001b[0m\u001b[0;34m)\u001b[0m\u001b[0;34m:\u001b[0m\u001b[0;34m\u001b[0m\u001b[0m\n",
      "\u001b[0;31mRunFlowFailureException\u001b[0m: AlpineException: Run Workflow 297 failed with status code 401"
     ],
     "output_type": "error"
    }
   ],
   "source": [
    "session.workfile.run_workflow(\"297\")"
   ]
  },
  {
   "cell_type": "code",
   "execution_count": 3,
   "metadata": {},
   "outputs": [
    {
     "name": "stderr",
     "output_type": "stream",
     "text": [
      "2017-01-17 12:14:17,476 requests.packages.urllib3.connectionpool connectionpool[214] INFO: Starting new HTTP connection (1): 10.10.0.204\n"
     ]
    },
    {
     "data": {
      "text/plain": [
       "{u'response': {u'session_id': u'YQjvbxAnneVqVXvmG1jk',\n  u'user': {u'admin': True,\n   u'auth_method': u'internal',\n   u'dept': u'Development',\n   u'email': u'demoadmin@alpinenow.com',\n   u'entity_type': u'user',\n   u'first_name': u'Demo',\n   u'id': 665,\n   u'image': {u'complete_json': True,\n    u'entity_type': u'image',\n    u'icon': u'/users/665/image?style=icon&1483606634',\n    u'original': u'/users/665/image?style=original&1483606634'},\n   u'is_deleted': None,\n   u'last_name': u'Admin',\n   u'ldap_group_id': None,\n   u'notes': u'',\n   u'roles': [u'admin'],\n   u'subscribed_to_emails': False,\n   u'tags': [],\n   u'title': u'Demo',\n   u'user_type': u'analytics_developer',\n   u'username': u'demoadmin',\n   u'using_default_image': True}}}"
      ]
     },
     "execution_count": 3,
     "metadata": {},
     "output_type": "execute_result"
    }
   ],
   "source": [
    "variables = [{\"name\": \"@min_credit_line\", \"value\": \"7\"}]\n",
    "alpine_session = Alpine(host, port)\n",
    "alpine_session.login(username, password)"
   ]
  },
  {
   "cell_type": "code",
   "execution_count": 4,
   "metadata": {},
   "outputs": [
    {
     "name": "stdout",
     "output_type": "stream",
     "text": [
      "http://10.10.0.204:8080/alpinedatalabs/api/v1/json/workflows/297/run?saveResult=true\n"
     ]
    },
    {
     "data": {
      "text/plain": [
       "'FINISHED'"
      ]
     },
     "execution_count": 4,
     "metadata": {},
     "output_type": "execute_result"
    }
   ],
   "source": [
    "process_id = alpine_session.workfile.run_workflow(workfile_id, variables)\n",
    "alpine_session.workfile.wait_for_workflow_finished(process_id)"
   ]
  },
  {
   "cell_type": "code",
   "execution_count": null,
   "metadata": {},
   "outputs": [],
   "source": [
    ""
   ]
  }
 ],
 "metadata": {
  "anaconda-cloud": {},
  "kernelspec": {
   "display_name": "Python [conda root]",
   "language": "python",
   "name": "conda-root-py"
  },
  "language_info": {
   "codemirror_mode": {
    "name": "ipython",
    "version": 2.0
   },
   "file_extension": ".py",
   "mimetype": "text/x-python",
   "name": "python",
   "nbconvert_exporter": "python",
   "pygments_lexer": "ipython2",
   "version": "2.7.12"
  }
 },
 "nbformat": 4,
 "nbformat_minor": 0
}