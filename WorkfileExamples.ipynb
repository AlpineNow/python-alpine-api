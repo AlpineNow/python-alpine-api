{
 "cells": [
  {
   "cell_type": "code",
   "execution_count": 12,
   "metadata": {
    "collapsed": false
   },
   "outputs": [],
   "source": [
    "import time\n",
    "\n",
    "# Login user:\n",
    "username = 'demoadmin'\n",
    "password = 'password'\n",
    "host = \"10.10.0.204\"\n",
    "port = \"8080\"\n",
    "\n",
    "test_workflow_name = \"AMTOnline\"\n",
    "test_workspace_name = \"T.J.\"\n",
    "#variables = [{\"name\": \"@min_credit_line\", \"value\": \"7\"}]"
   ]
  },
  {
   "cell_type": "code",
   "execution_count": 2,
   "metadata": {
    "collapsed": false
   },
   "outputs": [],
   "source": [
    "# from api.alpine import Alpine\n",
    "import api as AlpineAPI\n",
    "from pprint import pprint"
   ]
  },
  {
   "cell_type": "code",
   "execution_count": 3,
   "metadata": {
    "collapsed": false
   },
   "outputs": [],
   "source": [
    "session = AlpineAPI.Alpine(host, port, username, password)\n",
    "#session.get_login_status().get(\"response\").get(\"user\").get(\"id\")"
   ]
  },
  {
   "cell_type": "code",
   "execution_count": 4,
   "metadata": {
    "collapsed": false
   },
   "outputs": [
    {
     "data": {
      "text/plain": [
       "10"
      ]
     },
     "execution_count": 4,
     "metadata": {},
     "output_type": "execute_result"
    }
   ],
   "source": [
    "a = session.workfile.get_all('T.J.')\n",
    "len(a)"
   ]
  },
  {
   "cell_type": "code",
   "execution_count": 5,
   "metadata": {
    "collapsed": false
   },
   "outputs": [
    {
     "name": "stdout",
     "output_type": "stream",
     "text": [
      "{u'associated_worklets': [],\n",
      " u'comment_count': 0,\n",
      " u'complete_json': True,\n",
      " u'description': u'',\n",
      " u'entity_subtype': u'alpine',\n",
      " u'entity_type': u'workfile',\n",
      " u'file_name': u'AMTOnline',\n",
      " u'file_type': u'work_flow',\n",
      " u'id': 188,\n",
      " u'is_deleted': None,\n",
      " u'latest_version_id': None,\n",
      " u'link_url': None,\n",
      " u'owner': {u'auth_method': u'internal',\n",
      "            u'entity_type': u'user',\n",
      "            u'first_name': u'T.J.',\n",
      "            u'id': 7,\n",
      "            u'image': {u'complete_json': True,\n",
      "                       u'entity_type': u'image',\n",
      "                       u'icon': u'/users/7/image?style=icon&1482194432',\n",
      "                       u'original': u'/users/7/image?style=original&1482194432'},\n",
      "            u'is_deleted': None,\n",
      "            u'last_name': u'Bay',\n",
      "            u'ldap_group_id': None,\n",
      "            u'roles': [u'admin'],\n",
      "            u'user_type': u'analytics_developer',\n",
      "            u'username': u'tjbay',\n",
      "            u'using_default_image': True},\n",
      " u'recent_comments': [],\n",
      " u'status': u'idle',\n",
      " u'tags': [],\n",
      " u'user_modified_at': u'2017-01-11T23:20:19Z',\n",
      " u'version_info': {u'created_at': u'2017-01-11T23:20:19Z',\n",
      "                   u'updated_at': u'2017-02-03T22:40:03Z'},\n",
      " u'workspace': {u'archived': False,\n",
      "                u'archived_at': None,\n",
      "                u'datasets_count': 0,\n",
      "                u'entity_type': u'workspace',\n",
      "                u'has_milestones': False,\n",
      "                u'has_recent_comments': False,\n",
      "                u'id': 687,\n",
      "                u'insights_count': 0,\n",
      "                u'is_deleted': None,\n",
      "                u'is_member': False,\n",
      "                u'is_project': True,\n",
      "                u'members_count': 7,\n",
      "                u'milestone_completed_count': 0,\n",
      "                u'milestone_count': 0,\n",
      "                u'name': u'T.J.',\n",
      "                u'owner': {u'auth_method': u'internal',\n",
      "                           u'entity_type': u'user',\n",
      "                           u'first_name': u'T.J.',\n",
      "                           u'id': 7,\n",
      "                           u'image': {u'complete_json': True,\n",
      "                                      u'entity_type': u'image',\n",
      "                                      u'icon': u'/users/7/image?style=icon&1482194432',\n",
      "                                      u'original': u'/users/7/image?style=original&1482194432'},\n",
      "                           u'is_deleted': None,\n",
      "                           u'last_name': u'Bay',\n",
      "                           u'ldap_group_id': None,\n",
      "                           u'roles': [u'admin'],\n",
      "                           u'user_type': u'analytics_developer',\n",
      "                           u'username': u'tjbay',\n",
      "                           u'using_default_image': True},\n",
      "                u'permission': [u'admin'],\n",
      "                u'project_status': u'on_track',\n",
      "                u'project_status_reason': None,\n",
      "                u'project_target_date': None,\n",
      "                u'public': False,\n",
      "                u'recent_comments_count': 0,\n",
      "                u'recent_insights_count': 0,\n",
      "                u'summary': None,\n",
      "                u'workfiles_count': 10,\n",
      "                u'workspace_stage': {u'complete_json': True,\n",
      "                                     u'default': False,\n",
      "                                     u'description_long': u'Create, evaluate, and optimize machine learning models.',\n",
      "                                     u'description_short': u'Create and iterate machine learning models.',\n",
      "                                     u'id': 3,\n",
      "                                     u'name': u'Model',\n",
      "                                     u'position': 3},\n",
      "                u'workspace_stage_id': 3}}\n"
     ]
    }
   ],
   "source": [
    "b = session.workfile.get_data(\"AMTOnline\", \"T.J.\")\n",
    "pprint(b)"
   ]
  },
  {
   "cell_type": "code",
   "execution_count": 5,
   "metadata": {
    "collapsed": false
   },
   "outputs": [
    {
     "name": "stdout",
     "output_type": "stream",
     "text": [
      "188\n"
     ]
    }
   ],
   "source": [
    "c = session.workfile.get_id(\"AMTOnline\", \"T.J.\")\n",
    "pprint(c)"
   ]
  },
  {
   "cell_type": "code",
   "execution_count": 7,
   "metadata": {
    "collapsed": false
   },
   "outputs": [],
   "source": [
    "# d = session.workfile.delete(\"SQL2.sql\", \"T.J.\")"
   ]
  },
  {
   "cell_type": "code",
   "execution_count": 7,
   "metadata": {
    "collapsed": false
   },
   "outputs": [
    {
     "name": "stdout",
     "output_type": "stream",
     "text": [
      "{\"meta\":{\"workflowId\":\"188\",\"processId\":\"377c3325-dcb5-4b5b-af32-31834403cdd8\",\"user\":\"665\",\"state\":\"STARTED\"},\"message\":\"workflow started\",\"results\":\"\"}\n",
      "\n"
     ]
    }
   ],
   "source": [
    "process_id = session.workfile.run(test_workflow_name, test_workspace_name)"
   ]
  },
  {
   "cell_type": "code",
   "execution_count": 20,
   "metadata": {
    "collapsed": false
   },
   "outputs": [
    {
     "data": {
      "text/plain": [
       "'FINISHED'"
      ]
     },
     "execution_count": 20,
     "metadata": {},
     "output_type": "execute_result"
    }
   ],
   "source": [
    "session.workfile.query_status(process_id)"
   ]
  },
  {
   "cell_type": "code",
   "execution_count": 25,
   "metadata": {
    "collapsed": false
   },
   "outputs": [
    {
     "name": "stdout",
     "output_type": "stream",
     "text": [
      "WORKING\n",
      "STOPPED\n",
      "FINISHED\n"
     ]
    }
   ],
   "source": [
    "process_id = session.workfile.run(test_workflow_name, test_workspace_name)\n",
    "print(session.workfile.query_status(process_id))\n",
    "time.sleep(2)\n",
    "print(session.workfile.stop(process_id))\n",
    "print(session.workfile.query_status(process_id))"
   ]
  },
  {
   "cell_type": "code",
   "execution_count": 29,
   "metadata": {
    "collapsed": false
   },
   "outputs": [
    {
     "name": "stdout",
     "output_type": "stream",
     "text": [
      "Workflow in progress for ~0.03 seconds.\n",
      "Workflow in progress for ~5.06 seconds.\n",
      "Workflow in progress for ~10.09 seconds.\n",
      "Workflow in progress for ~15.13 seconds.\n",
      "Workflow in progress for ~20.17 seconds.\n",
      "Workflow in progress for ~25.20 seconds.\n"
     ]
    },
    {
     "data": {
      "text/plain": [
       "'FINISHED'"
      ]
     },
     "execution_count": 29,
     "metadata": {},
     "output_type": "execute_result"
    }
   ],
   "source": [
    "process_id = session.workfile.run(test_workflow_name, test_workspace_name)\n",
    "session.workfile.wait_until_finished(process_id, verbose=True, query_time=5, timeout=100)"
   ]
  },
  {
   "cell_type": "code",
   "execution_count": null,
   "metadata": {
    "collapsed": false
   },
   "outputs": [],
   "source": []
  },
  {
   "cell_type": "code",
   "execution_count": null,
   "metadata": {
    "collapsed": true
   },
   "outputs": [],
   "source": []
  },
  {
   "cell_type": "code",
   "execution_count": null,
   "metadata": {
    "collapsed": false
   },
   "outputs": [],
   "source": []
  },
  {
   "cell_type": "code",
   "execution_count": null,
   "metadata": {
    "collapsed": false
   },
   "outputs": [],
   "source": []
  },
  {
   "cell_type": "code",
   "execution_count": null,
   "metadata": {
    "collapsed": true
   },
   "outputs": [],
   "source": []
  },
  {
   "cell_type": "code",
   "execution_count": null,
   "metadata": {
    "collapsed": true
   },
   "outputs": [],
   "source": []
  },
  {
   "cell_type": "code",
   "execution_count": null,
   "metadata": {
    "collapsed": true
   },
   "outputs": [],
   "source": []
  },
  {
   "cell_type": "code",
   "execution_count": null,
   "metadata": {
    "collapsed": true
   },
   "outputs": [],
   "source": []
  },
  {
   "cell_type": "code",
   "execution_count": null,
   "metadata": {
    "collapsed": true
   },
   "outputs": [],
   "source": []
  },
  {
   "cell_type": "code",
   "execution_count": null,
   "metadata": {
    "collapsed": false
   },
   "outputs": [],
   "source": [
    "workfiles = session.workfile.get_workfiles_list(932)\n",
    "\n",
    "print(\"Workfile Name, ID\")\n",
    "\n",
    "for workfile in workfiles:\n",
    "    print(\"{}, {}\".format(workfile.get(\"file_name\"),workfile.get(\"id\")))"
   ]
  },
  {
   "cell_type": "code",
   "execution_count": null,
   "metadata": {
    "collapsed": false
   },
   "outputs": [],
   "source": [
    "process_id = session.workfile.run_workflow(workfile_id, variables)\n",
    "session.workfile.wait_for_workflow_to_finish(process_id)"
   ]
  },
  {
   "cell_type": "code",
   "execution_count": null,
   "metadata": {
    "collapsed": false
   },
   "outputs": [],
   "source": [
    "a = session.workfile.download_workflow_results(workfile_id, process_id)\n",
    "a['outputs']"
   ]
  },
  {
   "cell_type": "code",
   "execution_count": null,
   "metadata": {
    "collapsed": false
   },
   "outputs": [],
   "source": [
    "session.workfile.find_operator('Row Filter', a['outputs'])"
   ]
  },
  {
   "cell_type": "code",
   "execution_count": null,
   "metadata": {
    "collapsed": true
   },
   "outputs": [],
   "source": []
  }
 ],
 "metadata": {
  "anaconda-cloud": {},
  "kernelspec": {
   "display_name": "Python [conda root]",
   "language": "python",
   "name": "conda-root-py"
  },
  "language_info": {
   "codemirror_mode": {
    "name": "ipython",
    "version": 2
   },
   "file_extension": ".py",
   "mimetype": "text/x-python",
   "name": "python",
   "nbconvert_exporter": "python",
   "pygments_lexer": "ipython2",
   "version": "2.7.13"
  }
 },
 "nbformat": 4,
 "nbformat_minor": 0
}
