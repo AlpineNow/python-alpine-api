{
 "cells": [
  {
   "cell_type": "markdown",
   "metadata": {},
   "source": [
    "# User Examples\n",
    "\n",
    "Let's start with a basic example of instantiating an Alpine API session. "
   ]
  },
  {
   "cell_type": "markdown",
   "metadata": {},
   "source": [
    "This is the login information."
   ]
  },
  {
   "cell_type": "code",
   "execution_count": 1,
   "metadata": {
    "collapsed": true
   },
   "outputs": [],
   "source": [
    "username = \"demoadmin\"\n",
    "password = \"password\"\n",
    "host = \"10.10.0.204\"\n",
    "port = \"8080\""
   ]
  },
  {
   "cell_type": "markdown",
   "metadata": {},
   "source": [
    "You will need to add the /python-alpine-api directory to your PYTHONPATH environment variable."
   ]
  },
  {
   "cell_type": "code",
   "execution_count": 2,
   "metadata": {
    "collapsed": false
   },
   "outputs": [],
   "source": [
    "import alpine as AlpineAPI\n",
    "from pprint import pprint"
   ]
  },
  {
   "cell_type": "markdown",
   "metadata": {},
   "source": [
    "## First steps\n",
    "\n",
    "Instantiate the Alpine API session and login the user."
   ]
  },
  {
   "cell_type": "code",
   "execution_count": 3,
   "metadata": {
    "collapsed": false
   },
   "outputs": [],
   "source": [
    "session = AlpineAPI.APIClient(host, port, username, password)"
   ]
  },
  {
   "cell_type": "code",
   "execution_count": 4,
   "metadata": {
    "collapsed": false
   },
   "outputs": [
    {
     "name": "stdout",
     "output_type": "stream",
     "text": [
      "{u'admin': True,\n",
      " u'auth_method': u'internal',\n",
      " u'dept': u'Development',\n",
      " u'email': u'demoadmin@alpinenow.com',\n",
      " u'entity_type': u'user',\n",
      " u'first_name': u'Demo',\n",
      " u'id': 665,\n",
      " u'image': {u'complete_json': True,\n",
      "            u'entity_type': u'image',\n",
      "            u'icon': u'/users/665/image?style=icon&1483606634',\n",
      "            u'original': u'/users/665/image?style=original&1483606634'},\n",
      " u'is_deleted': None,\n",
      " u'last_name': u'Admin',\n",
      " u'ldap_group_id': None,\n",
      " u'notes': u'',\n",
      " u'roles': [u'admin'],\n",
      " u'subscribed_to_emails': True,\n",
      " u'tags': [],\n",
      " u'title': u'Assistant to the Regional Manager',\n",
      " u'user_type': u'analytics_developer',\n",
      " u'username': u'demoadmin',\n",
      " u'using_default_image': True}\n"
     ]
    }
   ],
   "source": [
    "status = session.get_status()\n",
    "pprint(status)"
   ]
  },
  {
   "cell_type": "code",
   "execution_count": 17,
   "metadata": {
    "collapsed": false
   },
   "outputs": [
    {
     "data": {
      "text/plain": [
       "{u'admins': 400,\n",
       " u'advisor_now_enabled': True,\n",
       " u'analytics_developer': 100,\n",
       " u'analytics_developer_limit_reached': False,\n",
       " u'branding': u'alpine',\n",
       " u'business_user': 100,\n",
       " u'business_user_limit_reached': False,\n",
       " u'client_name': None,\n",
       " u'collaborator': 100,\n",
       " u'collaborator_limit_reached': False,\n",
       " u'correct_mac_address': True,\n",
       " u'data_analyst': 100,\n",
       " u'data_analyst_limit_reached': False,\n",
       " u'expired': False,\n",
       " u'expires': u'2099-12-31',\n",
       " u'is_enabled_api': True,\n",
       " u'is_enabled_custom': True,\n",
       " u'is_enabled_jobs': True,\n",
       " u'is_enabled_milestones': True,\n",
       " u'is_enabled_modeling': True,\n",
       " u'is_enabled_touchpoints': True,\n",
       " u'level': None,\n",
       " u'limit_api': False,\n",
       " u'limit_custom': False,\n",
       " u'limit_jobs': False,\n",
       " u'limit_milestones': False,\n",
       " u'limit_modeling': False,\n",
       " u'limit_touchpoints': False,\n",
       " u'mac_address': u'!!!!!!!!!!',\n",
       " u'organization_uuid': None,\n",
       " u'users_license_limit_reached': False,\n",
       " u'vendor': u'alpine',\n",
       " u'version': u'6.3.0.0.5295-a862c8df1\\n',\n",
       " u'workflow_enabled': True}"
      ]
     },
     "execution_count": 17,
     "metadata": {},
     "output_type": "execute_result"
    }
   ],
   "source": [
    "session.get_license()"
   ]
  },
  {
   "cell_type": "code",
   "execution_count": 5,
   "metadata": {
    "collapsed": false
   },
   "outputs": [
    {
     "data": {
      "text/plain": [
       "u'6.3.0.0.5295-a862c8df1'"
      ]
     },
     "execution_count": 5,
     "metadata": {},
     "output_type": "execute_result"
    }
   ],
   "source": [
    "session.get_version()"
   ]
  },
  {
   "cell_type": "code",
   "execution_count": 13,
   "metadata": {
    "collapsed": false
   },
   "outputs": [
    {
     "data": {
      "text/plain": [
       "{u'admin': True,\n",
       " u'auth_method': u'internal',\n",
       " u'dept': u'Development',\n",
       " u'email': u'demoadmin@alpinenow.com',\n",
       " u'entity_type': u'user',\n",
       " u'first_name': u'Demo',\n",
       " u'id': 665,\n",
       " u'image': {u'complete_json': True,\n",
       "  u'entity_type': u'image',\n",
       "  u'icon': u'/users/665/image?style=icon&1483606634',\n",
       "  u'original': u'/users/665/image?style=original&1483606634'},\n",
       " u'is_deleted': None,\n",
       " u'last_name': u'Admin',\n",
       " u'ldap_group_id': None,\n",
       " u'notes': u'',\n",
       " u'roles': [u'admin'],\n",
       " u'subscribed_to_emails': True,\n",
       " u'tags': [],\n",
       " u'title': u'Assistant to the Regional Manager',\n",
       " u'user_type': u'analytics_developer',\n",
       " u'username': u'demoadmin',\n",
       " u'using_default_image': True}"
      ]
     },
     "execution_count": 13,
     "metadata": {},
     "output_type": "execute_result"
    }
   ],
   "source": [
    "session.login(username, password)"
   ]
  },
  {
   "cell_type": "code",
   "execution_count": 16,
   "metadata": {
    "collapsed": false
   },
   "outputs": [
    {
     "data": {
      "text/plain": [
       "<Response [401]>"
      ]
     },
     "execution_count": 16,
     "metadata": {},
     "output_type": "execute_result"
    }
   ],
   "source": [
    "session.logout()"
   ]
  },
  {
   "cell_type": "markdown",
   "metadata": {},
   "source": [
    "## User data\n",
    "\n",
    "Query data on a single user or all users."
   ]
  },
  {
   "cell_type": "code",
   "execution_count": 9,
   "metadata": {
    "collapsed": false
   },
   "outputs": [
    {
     "data": {
      "text/plain": [
       "{u'admin': True,\n",
       " u'auth_method': u'internal',\n",
       " u'complete_json': True,\n",
       " u'dept': u'Development',\n",
       " u'email': u'demoadmin@alpinenow.com',\n",
       " u'entity_type': u'user',\n",
       " u'first_name': u'Demo',\n",
       " u'id': 665,\n",
       " u'image': {u'complete_json': True,\n",
       "  u'entity_type': u'image',\n",
       "  u'icon': u'/users/665/image?style=icon&1483606634',\n",
       "  u'original': u'/users/665/image?style=original&1483606634'},\n",
       " u'is_deleted': None,\n",
       " u'last_name': u'Admin',\n",
       " u'ldap_group_id': None,\n",
       " u'notes': u'',\n",
       " u'roles': [u'admin'],\n",
       " u'subscribed_to_emails': True,\n",
       " u'tags': [],\n",
       " u'title': u'Assistant to the Regional Manager',\n",
       " u'user_type': u'analytics_developer',\n",
       " u'username': u'demoadmin',\n",
       " u'using_default_image': True}"
      ]
     },
     "execution_count": 9,
     "metadata": {},
     "output_type": "execute_result"
    }
   ],
   "source": [
    "user_id = session.user.get_id(username)\n",
    "session.user.get(user_id)\n",
    "# print user_data"
   ]
  },
  {
   "cell_type": "code",
   "execution_count": 10,
   "metadata": {
    "collapsed": false
   },
   "outputs": [
    {
     "data": {
      "text/plain": [
       "102"
      ]
     },
     "execution_count": 10,
     "metadata": {},
     "output_type": "execute_result"
    }
   ],
   "source": [
    "all_users = session.user.get_list()\n",
    "len(all_users)"
   ]
  },
  {
   "cell_type": "markdown",
   "metadata": {},
   "source": [
    "## Update users\n",
    "\n",
    "We can also create, update, and delete users. Administrator roles are respected "
   ]
  },
  {
   "cell_type": "code",
   "execution_count": 9,
   "metadata": {
    "collapsed": false
   },
   "outputs": [
    {
     "ename": "KeyError",
     "evalue": "'id'",
     "output_type": "error",
     "traceback": [
      "\u001b[0;31m---------------------------------------------------------------------------\u001b[0m",
      "\u001b[0;31mKeyError\u001b[0m                                  Traceback (most recent call last)",
      "\u001b[0;32m<ipython-input-9-695fd8d599de>\u001b[0m in \u001b[0;36m<module>\u001b[0;34m()\u001b[0m\n\u001b[1;32m      2\u001b[0m                         \u001b[0mlast_name\u001b[0m\u001b[0;34m=\u001b[0m\u001b[0;34m\"User\"\u001b[0m\u001b[0;34m,\u001b[0m \u001b[0memail\u001b[0m\u001b[0;34m=\u001b[0m\u001b[0;34m\"fake@street.com\"\u001b[0m\u001b[0;34m,\u001b[0m \u001b[0mtitle\u001b[0m \u001b[0;34m=\u001b[0m \u001b[0;34m\"Assistant Regional Manager\"\u001b[0m\u001b[0;34m,\u001b[0m\u001b[0;34m\u001b[0m\u001b[0m\n\u001b[1;32m      3\u001b[0m                         admin_role=\"\", app_role=\"data_analyst\", email_notification=False)\n\u001b[0;32m----> 4\u001b[0;31m \u001b[0mnew_user_id\u001b[0m \u001b[0;34m=\u001b[0m \u001b[0ma\u001b[0m\u001b[0;34m[\u001b[0m\u001b[0;34m'id'\u001b[0m\u001b[0;34m]\u001b[0m\u001b[0;34m\u001b[0m\u001b[0m\n\u001b[0m\u001b[1;32m      5\u001b[0m \u001b[0mpprint\u001b[0m\u001b[0;34m(\u001b[0m\u001b[0ma\u001b[0m\u001b[0;34m)\u001b[0m\u001b[0;34m\u001b[0m\u001b[0m\n",
      "\u001b[0;31mKeyError\u001b[0m: 'id'"
     ]
    }
   ],
   "source": [
    "a = session.user.create(username=\"NNewUser\", password=\"demo62\", first_name=\"New\",\n",
    "                        last_name=\"User\", email=\"fake@street.com\", title = \"Assistant Regional Manager\",\n",
    "                        admin_role=\"\", app_role=\"data_analyst\", email_notification=False)\n",
    "new_user_id = a['id']\n",
    "pprint(a)"
   ]
  },
  {
   "cell_type": "code",
   "execution_count": 8,
   "metadata": {
    "collapsed": false
   },
   "outputs": [
    {
     "data": {
      "text/plain": [
       "100"
      ]
     },
     "execution_count": 8,
     "metadata": {},
     "output_type": "execute_result"
    }
   ],
   "source": [
    "all_users = session.user.get_list()\n",
    "len(all_users)"
   ]
  },
  {
   "cell_type": "code",
   "execution_count": 10,
   "metadata": {
    "collapsed": false
   },
   "outputs": [
    {
     "data": {
      "text/plain": [
       "{u'admin': False,\n",
       " u'auth_method': u'internal',\n",
       " u'complete_json': True,\n",
       " u'dept': u'',\n",
       " u'email': u'fake@street.com',\n",
       " u'entity_type': u'user',\n",
       " u'first_name': u'New',\n",
       " u'id': 2302,\n",
       " u'image': {u'complete_json': True,\n",
       "  u'entity_type': u'image',\n",
       "  u'icon': u'/users/2302/image?style=icon&1487959991',\n",
       "  u'original': u'/users/2302/image?style=original&1487959991'},\n",
       " u'is_deleted': None,\n",
       " u'last_name': u'User',\n",
       " u'ldap_group_id': None,\n",
       " u'notes': u'Add Via API',\n",
       " u'roles': [],\n",
       " u'subscribed_to_emails': True,\n",
       " u'tags': [],\n",
       " u'title': u'Assistant to the Regional Manager',\n",
       " u'user_type': u'data_analyst',\n",
       " u'username': u'NNewUser',\n",
       " u'using_default_image': True}"
      ]
     },
     "execution_count": 10,
     "metadata": {},
     "output_type": "execute_result"
    }
   ],
   "source": [
    "session.user.update(new_user_id, title=\"Assistant to the Regional Manager\", email_notification=True)"
   ]
  },
  {
   "cell_type": "code",
   "execution_count": 12,
   "metadata": {
    "collapsed": false
   },
   "outputs": [],
   "source": [
    "session.user.delete(new_user_id)"
   ]
  },
  {
   "cell_type": "code",
   "execution_count": 11,
   "metadata": {
    "collapsed": false
   },
   "outputs": [
    {
     "data": {
      "text/plain": [
       "91"
      ]
     },
     "execution_count": 11,
     "metadata": {},
     "output_type": "execute_result"
    }
   ],
   "source": [
    "all_users = session.user.get_list()\n",
    "len(all_users)"
   ]
  }
 ],
 "metadata": {
  "kernelspec": {
   "display_name": "Python [conda root]",
   "language": "python",
   "name": "conda-root-py"
  },
  "language_info": {
   "codemirror_mode": {
    "name": "ipython",
    "version": 2
   },
   "file_extension": ".py",
   "mimetype": "text/x-python",
   "name": "python",
   "nbconvert_exporter": "python",
   "pygments_lexer": "ipython2",
   "version": "2.7.13"
  }
 },
 "nbformat": 4,
 "nbformat_minor": 0
}
