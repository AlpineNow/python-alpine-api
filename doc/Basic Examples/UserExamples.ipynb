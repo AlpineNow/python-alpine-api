{
 "cells": [
  {
   "cell_type": "markdown",
   "metadata": {},
   "source": [
    "# User Examples\n",
    "\n",
    "Let's start with a basic example of instantiating an Alpine API session. "
   ]
  },
  {
   "cell_type": "markdown",
   "metadata": {},
   "source": [
    "This is the login information."
   ]
  },
  {
   "cell_type": "code",
   "execution_count": 1,
   "metadata": {
    "collapsed": true
   },
   "outputs": [],
   "source": [
    "username = \"demoadmin\"\n",
    "password = \"password\"\n",
    "host = \"10.10.0.204\"\n",
    "port = \"8080\""
   ]
  },
  {
   "cell_type": "markdown",
   "metadata": {},
   "source": [
    "You will need to add the /python-alpine-api directory to your PYTHONPATH environment variable."
   ]
  },
  {
   "cell_type": "code",
   "execution_count": 2,
   "metadata": {
    "collapsed": true
   },
   "outputs": [],
   "source": [
    "import api as AlpineAPI\n",
    "from pprint import pprint"
   ]
  },
  {
   "cell_type": "markdown",
   "metadata": {},
   "source": [
    "## First steps\n",
    "\n",
    "Instantiate the Alpine API session and login the user."
   ]
  },
  {
   "cell_type": "code",
   "execution_count": 3,
   "metadata": {
    "collapsed": true
   },
   "outputs": [],
   "source": [
    "session = AlpineAPI.Alpine(host, port, username, password)"
   ]
  },
  {
   "cell_type": "code",
   "execution_count": 4,
   "metadata": {
    "collapsed": false
   },
   "outputs": [
    {
     "name": "stdout",
     "output_type": "stream",
     "text": [
      "{u'response': {u'session_id': u'Srg2NfeL8iw5rT9ZGJs9',\n               u'user': {u'admin': True,\n                         u'auth_method': u'internal',\n                         u'dept': u'Development',\n                         u'email': u'demoadmin@alpinenow.com',\n                         u'entity_type': u'user',\n                         u'first_name': u'Demo',\n                         u'id': 665,\n                         u'image': {u'complete_json': True,\n                                    u'entity_type': u'image',\n                                    u'icon': u'/users/665/image?style=icon&1483606634',\n                                    u'original': u'/users/665/image?style=original&1483606634'},\n                         u'is_deleted': None,\n                         u'last_name': u'Admin',\n                         u'ldap_group_id': None,\n                         u'notes': u'',\n                         u'roles': [u'admin'],\n                         u'subscribed_to_emails': True,\n                         u'tags': [],\n                         u'title': u'Assistant to the Regional Manager',\n                         u'user_type': u'analytics_developer',\n                         u'username': u'demoadmin',\n                         u'using_default_image': True}}}\n"
     ]
    }
   ],
   "source": [
    "status = session.get_status()\n",
    "pprint(status)"
   ]
  },
  {
   "cell_type": "markdown",
   "metadata": {},
   "source": [
    "## User data\n",
    "\n",
    "Query data on a single user or all users."
   ]
  },
  {
   "cell_type": "code",
   "execution_count": 5,
   "metadata": {
    "collapsed": false
   },
   "outputs": [
    {
     "name": "stdout",
     "output_type": "stream",
     "text": [
      "{u'admin': True,\n u'auth_method': u'internal',\n u'complete_json': True,\n u'dept': u'Development',\n u'email': u'demoadmin@alpinenow.com',\n u'entity_type': u'user',\n u'first_name': u'Demo',\n u'id': 665,\n u'image': {u'complete_json': True,\n            u'entity_type': u'image',\n            u'icon': u'/users/665/image?style=icon&1483606634',\n            u'original': u'/users/665/image?style=original&1483606634'},\n u'is_deleted': None,\n u'last_name': u'Admin',\n u'ldap_group_id': None,\n u'notes': u'',\n u'roles': [u'admin'],\n u'subscribed_to_emails': True,\n u'tags': [],\n u'title': u'Assistant to the Regional Manager',\n u'user_type': u'analytics_developer',\n u'username': u'demoadmin',\n u'using_default_image': True}\n"
     ]
    }
   ],
   "source": [
    "user_id = session.user.get_id(username)\n",
    "user_data = session.user.get(user_id)\n",
    "pprint(user_data)"
   ]
  },
  {
   "cell_type": "code",
   "execution_count": 5,
   "metadata": {
    "collapsed": false
   },
   "outputs": [
    {
     "data": {
      "text/plain": [
       "99"
      ]
     },
     "execution_count": 5,
     "metadata": {},
     "output_type": "execute_result"
    }
   ],
   "source": [
    "all_users = session.user.get_list()\n",
    "len(all_users)"
   ]
  },
  {
   "cell_type": "markdown",
   "metadata": {},
   "source": [
    "## Update users\n",
    "\n",
    "We can also create, update, and delete users. Administrator roles are respected "
   ]
  },
  {
   "cell_type": "code",
   "execution_count": 6,
   "metadata": {
    "collapsed": true
   },
   "outputs": [
    {
     "name": "stdout",
     "output_type": "stream",
     "text": [
      "{u'admin': False,\n u'auth_method': u'internal',\n u'complete_json': True,\n u'dept': u'',\n u'email': u'fake@street.com',\n u'entity_type': u'user',\n u'first_name': u'New',\n u'id': 2298,\n u'image': {u'complete_json': True,\n            u'entity_type': u'image',\n            u'icon': u'/users/2298/image?style=icon&1487725554',\n            u'original': u'/users/2298/image?style=original&1487725554'},\n u'is_deleted': None,\n u'last_name': u'User',\n u'ldap_group_id': None,\n u'notes': u'Add Via API',\n u'roles': [],\n u'subscribed_to_emails': False,\n u'tags': [],\n u'title': u'Assistant Regional Manager',\n u'user_type': u'data_analyst',\n u'username': u'NNewUser',\n u'using_default_image': True}\n"
     ]
    }
   ],
   "source": [
    "a = session.user.create(username=\"NNewUser\", password=\"demo62\", first_name=\"New\",\n",
    "                        last_name=\"User\", email=\"fake@street.com\", title = \"Assistant Regional Manager\",\n",
    "                        admin_role=\"\", app_role=\"data_analyst\", email_notification=False)\n",
    "new_user_id = a['id']\n",
    "pprint(a)"
   ]
  },
  {
   "cell_type": "code",
   "execution_count": 7,
   "metadata": {
    "collapsed": false
   },
   "outputs": [
    {
     "data": {
      "text/plain": [
       "100"
      ]
     },
     "execution_count": 7,
     "metadata": {},
     "output_type": "execute_result"
    }
   ],
   "source": [
    "all_users = session.user.get_list()\n",
    "len(all_users)"
   ]
  },
  {
   "cell_type": "code",
   "execution_count": 8,
   "metadata": {
    "collapsed": false
   },
   "outputs": [
    {
     "data": {
      "text/plain": [
       "{u'admin': False,\n u'auth_method': u'internal',\n u'complete_json': True,\n u'dept': u'',\n u'email': u'fake@street.com',\n u'entity_type': u'user',\n u'first_name': u'New',\n u'id': 2298,\n u'image': {u'complete_json': True,\n  u'entity_type': u'image',\n  u'icon': u'/users/2298/image?style=icon&1487725554',\n  u'original': u'/users/2298/image?style=original&1487725554'},\n u'is_deleted': None,\n u'last_name': u'User',\n u'ldap_group_id': None,\n u'notes': u'Add Via API',\n u'roles': [],\n u'subscribed_to_emails': True,\n u'tags': [],\n u'title': u'Assistant to the Regional Manager',\n u'user_type': u'data_analyst',\n u'username': u'NNewUser',\n u'using_default_image': True}"
      ]
     },
     "execution_count": 8,
     "metadata": {},
     "output_type": "execute_result"
    }
   ],
   "source": [
    "session.user.update(new_user_id, title=\"Assistant to the Regional Manager\", email_notification=True)"
   ]
  },
  {
   "cell_type": "code",
   "execution_count": 9,
   "metadata": {
    "collapsed": false
   },
   "outputs": [],
   "source": [
    "session.user.delete(new_user_id)"
   ]
  },
  {
   "cell_type": "code",
   "execution_count": 10,
   "metadata": {
    "collapsed": false
   },
   "outputs": [
    {
     "data": {
      "text/plain": [
       "99"
      ]
     },
     "execution_count": 10,
     "metadata": {},
     "output_type": "execute_result"
    }
   ],
   "source": [
    "all_users = session.user.get_list()\n",
    "len(all_users)"
   ]
  }
 ],
 "metadata": {
  "kernelspec": {
   "display_name": "Python [conda root]",
   "language": "python",
   "name": "conda-root-py"
  },
  "language_info": {
   "codemirror_mode": {
    "name": "ipython",
    "version": 2.0
   },
   "file_extension": ".py",
   "mimetype": "text/x-python",
   "name": "python",
   "nbconvert_exporter": "python",
   "pygments_lexer": "ipython2",
   "version": "2.7.13"
  }
 },
 "nbformat": 4,
 "nbformat_minor": 0
}