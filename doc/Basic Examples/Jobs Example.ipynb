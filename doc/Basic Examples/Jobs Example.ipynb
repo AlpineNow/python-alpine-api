{
 "cells": [
  {
   "cell_type": "code",
   "execution_count": 2,
   "metadata": {
    "collapsed": true
   },
   "outputs": [],
   "source": [
    "username = \"demoadmin\"\n",
    "password = \"password\"\n",
    "host = \"10.10.0.204\"\n",
    "port = \"8080\""
   ]
  },
  {
   "cell_type": "code",
   "execution_count": 3,
   "metadata": {
    "collapsed": true
   },
   "outputs": [],
   "source": [
    "JobName = \"DemoJob\"\n",
    "workspace_id = 1672"
   ]
  },
  {
   "cell_type": "code",
   "execution_count": 4,
   "metadata": {
    "collapsed": false
   },
   "outputs": [],
   "source": [
    "import alpine as AlpineAPI\n",
    "from pprint import pprint"
   ]
  },
  {
   "cell_type": "code",
   "execution_count": 5,
   "metadata": {
    "collapsed": false
   },
   "outputs": [],
   "source": [
    "session = AlpineAPI.APIClient(host, port, username, password)"
   ]
  },
  {
   "cell_type": "markdown",
   "metadata": {},
   "source": [
    "# Jobs"
   ]
  },
  {
   "cell_type": "code",
   "execution_count": 10,
   "metadata": {
    "collapsed": false,
    "scrolled": true
   },
   "outputs": [],
   "source": [
    "session.job.get_list(workspace_id = 1672);"
   ]
  },
  {
   "cell_type": "code",
   "execution_count": 9,
   "metadata": {
    "collapsed": false
   },
   "outputs": [
    {
     "data": {
      "text/plain": [
       "675"
      ]
     },
     "execution_count": 9,
     "metadata": {},
     "output_type": "execute_result"
    }
   ],
   "source": [
    "job_id = session.job.get_id(workspace_id, \"DemoJob\")\n",
    "job_id"
   ]
  },
  {
   "cell_type": "code",
   "execution_count": 12,
   "metadata": {
    "collapsed": false,
    "scrolled": false
   },
   "outputs": [],
   "source": [
    "session.job.get(workspace_id, job_id=job_id);"
   ]
  },
  {
   "cell_type": "code",
   "execution_count": null,
   "metadata": {
    "collapsed": false
   },
   "outputs": [],
   "source": [
    "session.job.create(workspace_id, \"APICreatedJob\", \"on_demand\", 0, \"\")"
   ]
  },
  {
   "cell_type": "code",
   "execution_count": null,
   "metadata": {
    "collapsed": false
   },
   "outputs": [],
   "source": [
    "session.job.delete(workspace_id, job_id)"
   ]
  },
  {
   "cell_type": "code",
   "execution_count": null,
   "metadata": {
    "collapsed": false
   },
   "outputs": [],
   "source": [
    "session.job.run(job_id)"
   ]
  },
  {
   "cell_type": "code",
   "execution_count": 7,
   "metadata": {
    "collapsed": false
   },
   "outputs": [
    {
     "ename": "NameError",
     "evalue": "name 'job_id' is not defined",
     "output_type": "error",
     "traceback": [
      "\u001b[0;31m---------------------------------------------------------------------------\u001b[0m",
      "\u001b[0;31mNameError\u001b[0m                                 Traceback (most recent call last)",
      "\u001b[0;32m<ipython-input-7-5fd40cb0cade>\u001b[0m in \u001b[0;36m<module>\u001b[0;34m()\u001b[0m\n\u001b[0;32m----> 1\u001b[0;31m \u001b[0mjob_id\u001b[0m\u001b[0;34m\u001b[0m\u001b[0m\n\u001b[0m",
      "\u001b[0;31mNameError\u001b[0m: name 'job_id' is not defined"
     ]
    }
   ],
   "source": []
  },
  {
   "cell_type": "markdown",
   "metadata": {},
   "source": [
    "# Tasks"
   ]
  },
  {
   "cell_type": "code",
   "execution_count": null,
   "metadata": {
    "collapsed": false
   },
   "outputs": [],
   "source": [
    "session.job.task.create(workspace_id, job_id, 823)"
   ]
  },
  {
   "cell_type": "code",
   "execution_count": null,
   "metadata": {
    "collapsed": false
   },
   "outputs": [],
   "source": [
    "session.job.task.delete(workspace_id, job_id, 343)"
   ]
  },
  {
   "cell_type": "code",
   "execution_count": 21,
   "metadata": {
    "collapsed": false
   },
   "outputs": [
    {
     "data": {
      "text/plain": [
       "[{u'action': u'run_work_flow',\n",
       "  u'id': 344,\n",
       "  u'index': 1,\n",
       "  u'is_deleted': None,\n",
       "  u'is_valid': True,\n",
       "  u'job': {u'description': u'',\n",
       "   u'enabled': None,\n",
       "   u'end_run': None,\n",
       "   u'failure_notify': u'nobody',\n",
       "   u'failure_recipients': [],\n",
       "   u'id': 675,\n",
       "   u'interval_unit': u'on_demand',\n",
       "   u'interval_value': 0,\n",
       "   u'is_deleted': None,\n",
       "   u'last_run': u'2017-03-02T16:01:37-08:00',\n",
       "   u'last_run_failed': False,\n",
       "   u'name': u'DemoJob',\n",
       "   u'next_run': None,\n",
       "   u'status': u'idle',\n",
       "   u'success_notify': u'nobody',\n",
       "   u'success_recipients': [],\n",
       "   u'time_zone': u'Pacific Time (US & Canada)',\n",
       "   u'workspace': {u'archived': False,\n",
       "    u'archived_at': None,\n",
       "    u'datasets_count': 0,\n",
       "    u'entity_type': u'workspace',\n",
       "    u'has_milestones': False,\n",
       "    u'has_recent_comments': False,\n",
       "    u'id': 1672,\n",
       "    u'insights_count': 0,\n",
       "    u'is_deleted': None,\n",
       "    u'is_member': True,\n",
       "    u'is_project': True,\n",
       "    u'members_count': 5,\n",
       "    u'milestone_completed_count': 0,\n",
       "    u'milestone_count': 0,\n",
       "    u'name': u'Test WS22',\n",
       "    u'owner': {u'auth_method': u'internal',\n",
       "     u'entity_type': u'user',\n",
       "     u'first_name': u'Demo',\n",
       "     u'id': 665,\n",
       "     u'image': {u'complete_json': True,\n",
       "      u'entity_type': u'image',\n",
       "      u'icon': u'/users/665/image?style=icon&1483606634',\n",
       "      u'original': u'/users/665/image?style=original&1483606634'},\n",
       "     u'is_deleted': None,\n",
       "     u'last_name': u'Admin',\n",
       "     u'ldap_group_id': None,\n",
       "     u'roles': [u'admin'],\n",
       "     u'user_type': u'analytics_developer',\n",
       "     u'username': u'demoadmin',\n",
       "     u'using_default_image': True},\n",
       "    u'permission': [u'admin', u'create_workflow'],\n",
       "    u'project_status': u'on_track',\n",
       "    u'project_status_reason': None,\n",
       "    u'project_target_date': None,\n",
       "    u'public': True,\n",
       "    u'recent_comments_count': 0,\n",
       "    u'recent_insights_count': 0,\n",
       "    u'summary': u'asdf',\n",
       "    u'workfiles_count': 2,\n",
       "    u'workspace_stage': {u'complete_json': True,\n",
       "     u'default': False,\n",
       "     u'description_long': u'Create, evaluate, and optimize machine learning models.',\n",
       "     u'description_short': u'Create and iterate machine learning models.',\n",
       "     u'id': 3,\n",
       "     u'name': u'Model',\n",
       "     u'position': 3},\n",
       "    u'workspace_stage_id': 3}},\n",
       "  u'name': u'Run test2',\n",
       "  u'work_flow': {u'associated_worklets': [],\n",
       "   u'comment_count': 0,\n",
       "   u'complete_json': True,\n",
       "   u'dataset_ids': [],\n",
       "   u'description': u'',\n",
       "   u'entity_subtype': u'alpine',\n",
       "   u'entity_type': u'workfile',\n",
       "   u'execution_locations': [{u'disable_kerberos_impersonation': False,\n",
       "     u'entity_type': u'hdfs_data_source',\n",
       "     u'hdfs_version': u'Cloudera CDH5.4-5.7',\n",
       "     u'hive_metastore_location': None,\n",
       "     u'id': 1,\n",
       "     u'is_deleted': None,\n",
       "     u'is_hdfs_hive': None,\n",
       "     u'name': u'AWS-CDH57',\n",
       "     u'public': True,\n",
       "     u'state': u'online',\n",
       "     u'supports_work_flows': True,\n",
       "     u'third_party_security_enabled': None,\n",
       "     u'uses_kerberos': False}],\n",
       "   u'file_name': u'test2',\n",
       "   u'file_type': u'work_flow',\n",
       "   u'id': 822,\n",
       "   u'is_deleted': None,\n",
       "   u'latest_version_id': None,\n",
       "   u'link_url': None,\n",
       "   u'owner': {u'auth_method': u'internal',\n",
       "    u'entity_type': u'user',\n",
       "    u'first_name': u'T.J.',\n",
       "    u'id': 7,\n",
       "    u'image': {u'complete_json': True,\n",
       "     u'entity_type': u'image',\n",
       "     u'icon': u'/users/7/image?style=icon&1482194432',\n",
       "     u'original': u'/users/7/image?style=original&1482194432'},\n",
       "    u'is_deleted': None,\n",
       "    u'last_name': u'Bay',\n",
       "    u'ldap_group_id': None,\n",
       "    u'roles': [u'admin'],\n",
       "    u'user_type': u'analytics_developer',\n",
       "    u'username': u'tjbay',\n",
       "    u'using_default_image': True},\n",
       "   u'recent_comments': [],\n",
       "   u'status': u'idle',\n",
       "   u'tags': [],\n",
       "   u'user_modified_at': u'2017-03-02T20:57:54Z',\n",
       "   u'workspace': {u'archived': False,\n",
       "    u'archived_at': None,\n",
       "    u'archiver': None,\n",
       "    u'complete_json': True,\n",
       "    u'datasets_count': 0,\n",
       "    u'entity_type': u'workspace',\n",
       "    u'has_added_member': True,\n",
       "    u'has_added_sandbox': True,\n",
       "    u'has_added_workfile': True,\n",
       "    u'has_changed_settings': True,\n",
       "    u'has_milestones': False,\n",
       "    u'has_recent_comments': False,\n",
       "    u'id': 1672,\n",
       "    u'image': {u'complete_json': True,\n",
       "     u'entity_type': u'image',\n",
       "     u'icon': u'',\n",
       "     u'original': u''},\n",
       "    u'insights_count': 0,\n",
       "    u'is_deleted': None,\n",
       "    u'is_member': True,\n",
       "    u'is_project': True,\n",
       "    u'members_count': 5,\n",
       "    u'milestone_completed_count': 0,\n",
       "    u'milestone_count': 0,\n",
       "    u'name': u'Test WS22',\n",
       "    u'owner': {u'admin': True,\n",
       "     u'auth_method': u'internal',\n",
       "     u'complete_json': True,\n",
       "     u'dept': u'Development',\n",
       "     u'email': u'demoadmin@alpinenow.com',\n",
       "     u'entity_type': u'user',\n",
       "     u'first_name': u'Demo',\n",
       "     u'id': 665,\n",
       "     u'image': {u'complete_json': True,\n",
       "      u'entity_type': u'image',\n",
       "      u'icon': u'/users/665/image?style=icon&1483606634',\n",
       "      u'original': u'/users/665/image?style=original&1483606634'},\n",
       "     u'is_deleted': None,\n",
       "     u'last_name': u'Admin',\n",
       "     u'ldap_group_id': None,\n",
       "     u'notes': u'',\n",
       "     u'roles': [u'admin'],\n",
       "     u'subscribed_to_emails': True,\n",
       "     u'tags': [],\n",
       "     u'title': u'Assistant to the Regional Manager',\n",
       "     u'user_type': u'analytics_developer',\n",
       "     u'username': u'demoadmin',\n",
       "     u'using_default_image': True},\n",
       "    u'permission': [u'admin', u'create_workflow'],\n",
       "    u'project_status': u'on_track',\n",
       "    u'project_status_reason': None,\n",
       "    u'project_target_date': None,\n",
       "    u'public': True,\n",
       "    u'recent_comments_count': 0,\n",
       "    u'recent_insights_count': 0,\n",
       "    u'sandbox_info': None,\n",
       "    u'show_sandbox_datasets': True,\n",
       "    u'summary': u'asdf',\n",
       "    u'tags': [],\n",
       "    u'workfiles_count': 2,\n",
       "    u'workspace_stage': {u'complete_json': True,\n",
       "     u'default': False,\n",
       "     u'description_long': u'Create, evaluate, and optimize machine learning models.',\n",
       "     u'description_short': u'Create and iterate machine learning models.',\n",
       "     u'id': 3,\n",
       "     u'name': u'Model',\n",
       "     u'position': 3},\n",
       "    u'workspace_stage_id': 3}}}]"
      ]
     },
     "execution_count": 21,
     "metadata": {},
     "output_type": "execute_result"
    }
   ],
   "source": [
    "session.job.task.get_list(workspace_id, job_id)"
   ]
  },
  {
   "cell_type": "code",
   "execution_count": 24,
   "metadata": {
    "collapsed": false
   },
   "outputs": [
    {
     "data": {
      "text/plain": [
       "344"
      ]
     },
     "execution_count": 24,
     "metadata": {},
     "output_type": "execute_result"
    }
   ],
   "source": [
    "session.job.task.get_id(workspace_id, job_id, \"Run test2\")"
   ]
  },
  {
   "cell_type": "code",
   "execution_count": 22,
   "metadata": {
    "collapsed": false
   },
   "outputs": [
    {
     "data": {
      "text/plain": [
       "{u'action': u'run_work_flow',\n",
       " u'id': 344,\n",
       " u'index': 1,\n",
       " u'is_deleted': None,\n",
       " u'is_valid': True,\n",
       " u'job': {u'description': u'',\n",
       "  u'enabled': None,\n",
       "  u'end_run': None,\n",
       "  u'failure_notify': u'nobody',\n",
       "  u'failure_recipients': [],\n",
       "  u'id': 675,\n",
       "  u'interval_unit': u'on_demand',\n",
       "  u'interval_value': 0,\n",
       "  u'is_deleted': None,\n",
       "  u'last_run': u'2017-03-02T16:01:37-08:00',\n",
       "  u'last_run_failed': False,\n",
       "  u'name': u'DemoJob',\n",
       "  u'next_run': None,\n",
       "  u'status': u'idle',\n",
       "  u'success_notify': u'nobody',\n",
       "  u'success_recipients': [],\n",
       "  u'time_zone': u'Pacific Time (US & Canada)',\n",
       "  u'workspace': {u'archived': False,\n",
       "   u'archived_at': None,\n",
       "   u'datasets_count': 0,\n",
       "   u'entity_type': u'workspace',\n",
       "   u'has_milestones': False,\n",
       "   u'has_recent_comments': False,\n",
       "   u'id': 1672,\n",
       "   u'insights_count': 0,\n",
       "   u'is_deleted': None,\n",
       "   u'is_member': True,\n",
       "   u'is_project': True,\n",
       "   u'members_count': 5,\n",
       "   u'milestone_completed_count': 0,\n",
       "   u'milestone_count': 0,\n",
       "   u'name': u'Test WS22',\n",
       "   u'owner': {u'auth_method': u'internal',\n",
       "    u'entity_type': u'user',\n",
       "    u'first_name': u'Demo',\n",
       "    u'id': 665,\n",
       "    u'image': {u'complete_json': True,\n",
       "     u'entity_type': u'image',\n",
       "     u'icon': u'/users/665/image?style=icon&1483606634',\n",
       "     u'original': u'/users/665/image?style=original&1483606634'},\n",
       "    u'is_deleted': None,\n",
       "    u'last_name': u'Admin',\n",
       "    u'ldap_group_id': None,\n",
       "    u'roles': [u'admin'],\n",
       "    u'user_type': u'analytics_developer',\n",
       "    u'username': u'demoadmin',\n",
       "    u'using_default_image': True},\n",
       "   u'permission': [u'admin', u'create_workflow'],\n",
       "   u'project_status': u'on_track',\n",
       "   u'project_status_reason': None,\n",
       "   u'project_target_date': None,\n",
       "   u'public': True,\n",
       "   u'recent_comments_count': 0,\n",
       "   u'recent_insights_count': 0,\n",
       "   u'summary': u'asdf',\n",
       "   u'workfiles_count': 2,\n",
       "   u'workspace_stage': {u'complete_json': True,\n",
       "    u'default': False,\n",
       "    u'description_long': u'Create, evaluate, and optimize machine learning models.',\n",
       "    u'description_short': u'Create and iterate machine learning models.',\n",
       "    u'id': 3,\n",
       "    u'name': u'Model',\n",
       "    u'position': 3},\n",
       "   u'workspace_stage_id': 3}},\n",
       " u'name': u'Run test2',\n",
       " u'work_flow': {u'associated_worklets': [],\n",
       "  u'comment_count': 0,\n",
       "  u'complete_json': True,\n",
       "  u'dataset_ids': [],\n",
       "  u'description': u'',\n",
       "  u'entity_subtype': u'alpine',\n",
       "  u'entity_type': u'workfile',\n",
       "  u'execution_locations': [{u'disable_kerberos_impersonation': False,\n",
       "    u'entity_type': u'hdfs_data_source',\n",
       "    u'hdfs_version': u'Cloudera CDH5.4-5.7',\n",
       "    u'hive_metastore_location': None,\n",
       "    u'id': 1,\n",
       "    u'is_deleted': None,\n",
       "    u'is_hdfs_hive': None,\n",
       "    u'name': u'AWS-CDH57',\n",
       "    u'public': True,\n",
       "    u'state': u'online',\n",
       "    u'supports_work_flows': True,\n",
       "    u'third_party_security_enabled': None,\n",
       "    u'uses_kerberos': False}],\n",
       "  u'file_name': u'test2',\n",
       "  u'file_type': u'work_flow',\n",
       "  u'id': 822,\n",
       "  u'is_deleted': None,\n",
       "  u'latest_version_id': None,\n",
       "  u'link_url': None,\n",
       "  u'owner': {u'auth_method': u'internal',\n",
       "   u'entity_type': u'user',\n",
       "   u'first_name': u'T.J.',\n",
       "   u'id': 7,\n",
       "   u'image': {u'complete_json': True,\n",
       "    u'entity_type': u'image',\n",
       "    u'icon': u'/users/7/image?style=icon&1482194432',\n",
       "    u'original': u'/users/7/image?style=original&1482194432'},\n",
       "   u'is_deleted': None,\n",
       "   u'last_name': u'Bay',\n",
       "   u'ldap_group_id': None,\n",
       "   u'roles': [u'admin'],\n",
       "   u'user_type': u'analytics_developer',\n",
       "   u'username': u'tjbay',\n",
       "   u'using_default_image': True},\n",
       "  u'recent_comments': [],\n",
       "  u'status': u'idle',\n",
       "  u'tags': [],\n",
       "  u'user_modified_at': u'2017-03-02T20:57:54Z',\n",
       "  u'workspace': {u'archived': False,\n",
       "   u'archived_at': None,\n",
       "   u'archiver': None,\n",
       "   u'complete_json': True,\n",
       "   u'datasets_count': 0,\n",
       "   u'entity_type': u'workspace',\n",
       "   u'has_added_member': True,\n",
       "   u'has_added_sandbox': True,\n",
       "   u'has_added_workfile': True,\n",
       "   u'has_changed_settings': True,\n",
       "   u'has_milestones': False,\n",
       "   u'has_recent_comments': False,\n",
       "   u'id': 1672,\n",
       "   u'image': {u'complete_json': True,\n",
       "    u'entity_type': u'image',\n",
       "    u'icon': u'',\n",
       "    u'original': u''},\n",
       "   u'insights_count': 0,\n",
       "   u'is_deleted': None,\n",
       "   u'is_member': True,\n",
       "   u'is_project': True,\n",
       "   u'members_count': 5,\n",
       "   u'milestone_completed_count': 0,\n",
       "   u'milestone_count': 0,\n",
       "   u'name': u'Test WS22',\n",
       "   u'owner': {u'admin': True,\n",
       "    u'auth_method': u'internal',\n",
       "    u'complete_json': True,\n",
       "    u'dept': u'Development',\n",
       "    u'email': u'demoadmin@alpinenow.com',\n",
       "    u'entity_type': u'user',\n",
       "    u'first_name': u'Demo',\n",
       "    u'id': 665,\n",
       "    u'image': {u'complete_json': True,\n",
       "     u'entity_type': u'image',\n",
       "     u'icon': u'/users/665/image?style=icon&1483606634',\n",
       "     u'original': u'/users/665/image?style=original&1483606634'},\n",
       "    u'is_deleted': None,\n",
       "    u'last_name': u'Admin',\n",
       "    u'ldap_group_id': None,\n",
       "    u'notes': u'',\n",
       "    u'roles': [u'admin'],\n",
       "    u'subscribed_to_emails': True,\n",
       "    u'tags': [],\n",
       "    u'title': u'Assistant to the Regional Manager',\n",
       "    u'user_type': u'analytics_developer',\n",
       "    u'username': u'demoadmin',\n",
       "    u'using_default_image': True},\n",
       "   u'permission': [u'admin', u'create_workflow'],\n",
       "   u'project_status': u'on_track',\n",
       "   u'project_status_reason': None,\n",
       "   u'project_target_date': None,\n",
       "   u'public': True,\n",
       "   u'recent_comments_count': 0,\n",
       "   u'recent_insights_count': 0,\n",
       "   u'sandbox_info': None,\n",
       "   u'show_sandbox_datasets': True,\n",
       "   u'summary': u'asdf',\n",
       "   u'tags': [],\n",
       "   u'workfiles_count': 2,\n",
       "   u'workspace_stage': {u'complete_json': True,\n",
       "    u'default': False,\n",
       "    u'description_long': u'Create, evaluate, and optimize machine learning models.',\n",
       "    u'description_short': u'Create and iterate machine learning models.',\n",
       "    u'id': 3,\n",
       "    u'name': u'Model',\n",
       "    u'position': 3},\n",
       "   u'workspace_stage_id': 3}}}"
      ]
     },
     "execution_count": 22,
     "metadata": {},
     "output_type": "execute_result"
    }
   ],
   "source": [
    "session.job.task.get(workspace_id, job_id, 344)"
   ]
  },
  {
   "cell_type": "code",
   "execution_count": null,
   "metadata": {
    "collapsed": true
   },
   "outputs": [],
   "source": []
  }
 ],
 "metadata": {
  "kernelspec": {
   "display_name": "Python [conda root]",
   "language": "python",
   "name": "conda-root-py"
  },
  "language_info": {
   "codemirror_mode": {
    "name": "ipython",
    "version": 2
   },
   "file_extension": ".py",
   "mimetype": "text/x-python",
   "name": "python",
   "nbconvert_exporter": "python",
   "pygments_lexer": "ipython2",
   "version": "2.7.13"
  }
 },
 "nbformat": 4,
 "nbformat_minor": 2
}
