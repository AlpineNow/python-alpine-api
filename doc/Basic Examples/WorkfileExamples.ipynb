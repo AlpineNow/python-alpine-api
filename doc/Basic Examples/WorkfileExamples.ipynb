{
 "cells": [
  {
   "cell_type": "markdown",
   "metadata": {},
   "source": [
    "# Workfile Examples\n",
    "\n",
    "Let's run a workflow with workflow variable input and download the results locally."
   ]
  },
  {
   "cell_type": "code",
   "execution_count": 1,
   "metadata": {
    "collapsed": false
   },
   "outputs": [],
   "source": [
    "username = 'demoadmin'\n",
    "password = 'password'\n",
    "host = \"10.10.0.204\"\n",
    "port = \"8080\"\n",
    "\n",
    "test_workflow_name = \"WineData\"\n",
    "test_workspace_name = \"APITests\""
   ]
  },
  {
   "cell_type": "code",
   "execution_count": 2,
   "metadata": {
    "collapsed": false
   },
   "outputs": [],
   "source": [
    "import api as AlpineAPI\n",
    "from pprint import pprint"
   ]
  },
  {
   "cell_type": "code",
   "execution_count": 3,
   "metadata": {
    "collapsed": false
   },
   "outputs": [],
   "source": [
    "session = AlpineAPI.Alpine(host, port, username, password)"
   ]
  },
  {
   "cell_type": "markdown",
   "metadata": {},
   "source": [
    "## Finding our workflow"
   ]
  },
  {
   "cell_type": "code",
   "execution_count": 4,
   "metadata": {
    "collapsed": false
   },
   "outputs": [
    {
     "name": "stdout",
     "output_type": "stream",
     "text": [
      "[{u'associated_worklets': [],\n",
      "  u'comment_count': 0,\n",
      "  u'complete_json': True,\n",
      "  u'description': u'',\n",
      "  u'entity_subtype': u'alpine',\n",
      "  u'entity_type': u'workfile',\n",
      "  u'file_name': u'Test workflow',\n",
      "  u'file_type': u'work_flow',\n",
      "  u'id': 7,\n",
      "  u'is_deleted': None,\n",
      "  u'latest_version_id': None,\n",
      "  u'link_url': None,\n",
      "  u'owner': {...},\n",
      "  u'recent_comments': [],\n",
      "  u'status': u'idle',\n",
      "  u'tags': [],\n",
      "  u'user_modified_at': u'2016-12-20T00:41:27Z',\n",
      "  u'version_info': {...},\n",
      "  u'workspace': {...}},\n",
      " {u'associated_worklets': [],\n",
      "  u'comment_count': 0,\n",
      "  u'complete_json': True,\n",
      "  u'description': u'',\n",
      "  u'entity_subtype': u'alpine',\n",
      "  u'entity_type': u'workfile',\n",
      "  u'file_name': u'WineData',\n",
      "  u'file_type': u'work_flow',\n",
      "  u'id': 375,\n",
      "  u'is_deleted': None,\n",
      "  u'latest_version_id': None,\n",
      "  u'link_url': None,\n",
      "  u'owner': {...},\n",
      "  u'recent_comments': [],\n",
      "  u'status': u'idle',\n",
      "  u'tags': [],\n",
      "  u'user_modified_at': u'2017-02-07T22:28:29Z',\n",
      "  u'version_info': {...},\n",
      "  u'workspace': {...}}]\n"
     ]
    }
   ],
   "source": [
    "all_workfiles = session.workfile.get_all(test_workspace_name)\n",
    "pprint(all_workfiles, depth = 2)"
   ]
  },
  {
   "cell_type": "code",
   "execution_count": 5,
   "metadata": {
    "collapsed": false,
    "scrolled": true
   },
   "outputs": [
    {
     "name": "stdout",
     "output_type": "stream",
     "text": [
      "{u'associated_worklets': [],\n",
      " u'comment_count': 0,\n",
      " u'complete_json': True,\n",
      " u'description': u'',\n",
      " u'entity_subtype': u'alpine',\n",
      " u'entity_type': u'workfile',\n",
      " u'file_name': u'WineData',\n",
      " u'file_type': u'work_flow',\n",
      " u'id': 375,\n",
      " u'is_deleted': None,\n",
      " u'latest_version_id': None,\n",
      " u'link_url': None,\n",
      " u'owner': {u'auth_method': u'internal',\n",
      "            u'entity_type': u'user',\n",
      "            u'first_name': u'T.J.',\n",
      "            u'id': 7,\n",
      "            u'image': {...},\n",
      "            u'is_deleted': None,\n",
      "            u'last_name': u'Bay',\n",
      "            u'ldap_group_id': None,\n",
      "            u'roles': [...],\n",
      "            u'user_type': u'analytics_developer',\n",
      "            u'username': u'tjbay',\n",
      "            u'using_default_image': True},\n",
      " u'recent_comments': [],\n",
      " u'status': u'idle',\n",
      " u'tags': [],\n",
      " u'user_modified_at': u'2017-02-07T22:28:29Z',\n",
      " u'version_info': {u'created_at': u'2017-02-07T22:28:29Z',\n",
      "                   u'updated_at': u'2017-02-07T22:56:57Z'},\n",
      " u'workspace': {u'archived': False,\n",
      "                u'archived_at': None,\n",
      "                u'datasets_count': 0,\n",
      "                u'entity_type': u'workspace',\n",
      "                u'has_milestones': False,\n",
      "                u'has_recent_comments': False,\n",
      "                u'id': 7,\n",
      "                u'insights_count': 0,\n",
      "                u'is_deleted': None,\n",
      "                u'is_member': False,\n",
      "                u'is_project': True,\n",
      "                u'members_count': 1,\n",
      "                u'milestone_completed_count': 0,\n",
      "                u'milestone_count': 0,\n",
      "                u'name': u'APITests',\n",
      "                u'owner': {...},\n",
      "                u'permission': [...],\n",
      "                u'project_status': u'on_track',\n",
      "                u'project_status_reason': None,\n",
      "                u'project_target_date': None,\n",
      "                u'public': False,\n",
      "                u'recent_comments_count': 0,\n",
      "                u'recent_insights_count': 0,\n",
      "                u'summary': None,\n",
      "                u'workfiles_count': 2,\n",
      "                u'workspace_stage': {...},\n",
      "                u'workspace_stage_id': 1}}\n"
     ]
    }
   ],
   "source": [
    "single_workfile_info = session.workfile.get_data(test_workflow_name, test_workspace_name)\n",
    "pprint(single_workfile_info, depth = 2)"
   ]
  },
  {
   "cell_type": "markdown",
   "metadata": {},
   "source": [
    "## Running a workflow"
   ]
  },
  {
   "cell_type": "code",
   "execution_count": 6,
   "metadata": {
    "collapsed": false
   },
   "outputs": [],
   "source": [
    "process_id = session.workfile.run(test_workflow_name, test_workspace_name)"
   ]
  },
  {
   "cell_type": "code",
   "execution_count": 7,
   "metadata": {
    "collapsed": false
   },
   "outputs": [
    {
     "data": {
      "text/plain": [
       "'WORKING'"
      ]
     },
     "execution_count": 7,
     "metadata": {},
     "output_type": "execute_result"
    }
   ],
   "source": [
    "session.workfile.query_status(process_id)"
   ]
  },
  {
   "cell_type": "code",
   "execution_count": 8,
   "metadata": {
    "collapsed": false
   },
   "outputs": [
    {
     "name": "stdout",
     "output_type": "stream",
     "text": [
      "Workflow in progress for ~35.96 seconds.      "
     ]
    },
    {
     "data": {
      "text/plain": [
       "'FINISHED'"
      ]
     },
     "execution_count": 8,
     "metadata": {},
     "output_type": "execute_result"
    },
    {
     "name": "stdout",
     "output_type": "stream",
     "text": [
      "\n"
     ]
    }
   ],
   "source": [
    "session.workfile.wait_until_finished(process_id, verbose=True, query_time=5, timeout=100)"
   ]
  },
  {
   "cell_type": "markdown",
   "metadata": {},
   "source": [
    "## Downloading the flow results"
   ]
  },
  {
   "cell_type": "code",
   "execution_count": 9,
   "metadata": {
    "collapsed": false
   },
   "outputs": [],
   "source": [
    "flow_results = session.workfile.download_results(test_workflow_name, test_workspace_name, process_id)"
   ]
  },
  {
   "cell_type": "code",
   "execution_count": 10,
   "metadata": {
    "collapsed": false
   },
   "outputs": [
    {
     "name": "stdout",
     "output_type": "stream",
     "text": [
      "{u'isGenerateReport': True,\n",
      " u'node_meta_info': [[...], [...], [...], [...], [...]],\n",
      " u'out_id': 1486510400107.5588,\n",
      " u'out_title': u'Row Filter',\n",
      " u'visualData': {u'columnTypes': [...],\n",
      "                 u'columns': [...],\n",
      "                 u'errorMessages': [...],\n",
      "                 u'fixedNumberOfColumns': 0,\n",
      "                 u'items': [...]},\n",
      " u'visualType': 0}\n"
     ]
    }
   ],
   "source": [
    "operator_data = session.workfile.find_operator('Row Filter', flow_results);\n",
    "pprint(operator_data, depth = 2)"
   ]
  },
  {
   "cell_type": "code",
   "execution_count": 11,
   "metadata": {
    "collapsed": false
   },
   "outputs": [
    {
     "name": "stdout",
     "output_type": "stream",
     "text": [
      "{u'endTime': u'2017-02-07T15:33:35.146-0800',\n",
      " u'executeUser': u'665',\n",
      " u'noOfError': 0,\n",
      " u'noOfNodesProcessed': 3,\n",
      " u'processId': u'3879dea8-4ad9-4cfa-b3b7-e550ce720374',\n",
      " u'startTime': u'2017-02-07T15:32:57.396-0800',\n",
      " u'status': u'SUCCESS',\n",
      " u'workflowId': u'375',\n",
      " u'workflowName': u'WineData'}\n"
     ]
    }
   ],
   "source": [
    "pprint(session.workfile.get_flow_metadata(flow_results))"
   ]
  },
  {
   "cell_type": "markdown",
   "metadata": {
    "collapsed": true
   },
   "source": [
    "## Using workflow variables\n",
    "\n",
    "After properly defining a workflow variable in Alpine UI, a user can inject different values into a workflow. In this workflow I've defined a workflow variable that is being used in a Row Filter operator."
   ]
  },
  {
   "cell_type": "code",
   "execution_count": 12,
   "metadata": {
    "collapsed": false
   },
   "outputs": [
    {
     "name": "stdout",
     "output_type": "stream",
     "text": [
      "Workflow in progress for ~40.58 seconds.       "
     ]
    },
    {
     "data": {
      "text/plain": [
       "'FINISHED'"
      ]
     },
     "execution_count": 12,
     "metadata": {},
     "output_type": "execute_result"
    },
    {
     "name": "stdout",
     "output_type": "stream",
     "text": [
      "\n"
     ]
    }
   ],
   "source": [
    "variables = [{\"name\": \"@row_filter\", \"value\": \"13\"}]\n",
    "process_id = session.workfile.run(test_workflow_name, test_workspace_name, variables=variables)\n",
    "session.workfile.wait_until_finished(process_id, verbose=True, query_time=5, timeout=100)"
   ]
  },
  {
   "cell_type": "code",
   "execution_count": 13,
   "metadata": {
    "collapsed": false
   },
   "outputs": [
    {
     "name": "stdout",
     "output_type": "stream",
     "text": [
      "u'86'\n"
     ]
    }
   ],
   "source": [
    "flow_results = session.workfile.download_results(test_workflow_name, test_workspace_name, process_id)\n",
    "ss_results = session.workfile.find_operator(\"Summary Statistics\", flow_results)\n",
    "pprint(ss_results['visualData']['items'][0]['count'])"
   ]
  },
  {
   "cell_type": "code",
   "execution_count": null,
   "metadata": {
    "collapsed": true
   },
   "outputs": [],
   "source": []
  }
 ],
 "metadata": {
  "anaconda-cloud": {},
  "kernelspec": {
   "display_name": "Python [conda root]",
   "language": "python",
   "name": "conda-root-py"
  },
  "language_info": {
   "codemirror_mode": {
    "name": "ipython",
    "version": 2
   },
   "file_extension": ".py",
   "mimetype": "text/x-python",
   "name": "python",
   "nbconvert_exporter": "python",
   "pygments_lexer": "ipython2",
   "version": "2.7.13"
  }
 },
 "nbformat": 4,
 "nbformat_minor": 0
}
