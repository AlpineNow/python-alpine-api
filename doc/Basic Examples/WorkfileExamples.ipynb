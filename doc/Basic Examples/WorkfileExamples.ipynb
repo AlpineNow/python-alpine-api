{
 "cells": [
  {
   "cell_type": "markdown",
   "metadata": {},
   "source": [
    "# Workfile Examples\n",
    "\n",
    "Let's run a workflow with workflow variable input and download the results locally."
   ]
  },
  {
   "cell_type": "code",
   "execution_count": 1,
   "metadata": {
    "collapsed": false
   },
   "outputs": [],
   "source": [
    "username = 'demoadmin'\n",
    "password = 'password'\n",
    "host = \"10.10.0.204\"\n",
    "port = \"8080\"\n",
    "\n",
    "test_workflow_name = \"WineData\"\n",
    "test_workspace_name = \"APITests\""
   ]
  },
  {
   "cell_type": "code",
   "execution_count": 2,
   "metadata": {
    "collapsed": false
   },
   "outputs": [],
   "source": [
    "import api as AlpineAPI\n",
    "from pprint import pprint"
   ]
  },
  {
   "cell_type": "code",
   "execution_count": 3,
   "metadata": {
    "collapsed": false
   },
   "outputs": [],
   "source": [
    "session = AlpineAPI.Alpine(host, port, username, password)"
   ]
  },
  {
   "cell_type": "markdown",
   "metadata": {},
   "source": [
    "## Finding our workflow"
   ]
  },
  {
   "cell_type": "code",
   "execution_count": 4,
   "metadata": {
    "collapsed": false,
    "scrolled": false
   },
   "outputs": [
    {
     "name": "stdout",
     "output_type": "stream",
     "text": [
      "[{u'associated_worklets': [],\n",
      "  u'comment_count': 0,\n",
      "  u'complete_json': True,\n",
      "  u'description': u'',\n",
      "  u'entity_subtype': u'alpine',\n",
      "  u'entity_type': u'workfile',\n",
      "  u'file_name': u'Test workflow',\n",
      "  u'file_type': u'work_flow',\n",
      "  u'id': 7,\n",
      "  u'is_deleted': None,\n",
      "  u'latest_version_id': None,\n",
      "  u'link_url': None,\n",
      "  u'owner': {...},\n",
      "  u'recent_comments': [],\n",
      "  u'status': u'idle',\n",
      "  u'tags': [],\n",
      "  u'user_modified_at': u'2016-12-20T00:41:27Z',\n",
      "  u'version_info': {...},\n",
      "  u'workspace': {...}},\n",
      " {u'associated_worklets': [],\n",
      "  u'comment_count': 0,\n",
      "  u'complete_json': True,\n",
      "  u'description': u'',\n",
      "  u'entity_subtype': u'alpine',\n",
      "  u'entity_type': u'workfile',\n",
      "  u'file_name': u'WineData',\n",
      "  u'file_type': u'work_flow',\n",
      "  u'id': 375,\n",
      "  u'is_deleted': None,\n",
      "  u'latest_version_id': None,\n",
      "  u'link_url': None,\n",
      "  u'owner': {...},\n",
      "  u'recent_comments': [],\n",
      "  u'status': u'idle',\n",
      "  u'tags': [],\n",
      "  u'user_modified_at': u'2017-02-07T22:28:29Z',\n",
      "  u'version_info': {...},\n",
      "  u'workspace': {...}}]\n"
     ]
    },
    {
     "data": {
      "text/plain": [
       "2"
      ]
     },
     "execution_count": 4,
     "metadata": {},
     "output_type": "execute_result"
    }
   ],
   "source": [
    "test_workspace_id = session.workspace.get_id(test_workspace_name)\n",
    "all_workfiles = session.workfile.get_list(test_workspace_id)\n",
    "pprint(all_workfiles, depth = 2)\n",
    "len(all_workfiles)"
   ]
  },
  {
   "cell_type": "code",
   "execution_count": 5,
   "metadata": {
    "collapsed": false,
    "scrolled": true
   },
   "outputs": [
    {
     "name": "stdout",
     "output_type": "stream",
     "text": [
      "{u'response': {u'associated_worklets': [],\n",
      "               u'comment_count': 0,\n",
      "               u'complete_json': True,\n",
      "               u'dataset_ids': [],\n",
      "               u'description': u'',\n",
      "               u'entity_subtype': u'alpine',\n",
      "               u'entity_type': u'workfile',\n",
      "               u'execution_locations': [...],\n",
      "               u'file_name': u'WineData',\n",
      "               u'file_type': u'work_flow',\n",
      "               u'id': 375,\n",
      "               u'is_deleted': None,\n",
      "               u'latest_version_id': None,\n",
      "               u'link_url': None,\n",
      "               u'owner': {...},\n",
      "               u'recent_comments': [],\n",
      "               u'status': u'idle',\n",
      "               u'tags': [],\n",
      "               u'user_modified_at': u'2017-02-07T22:28:29Z',\n",
      "               u'version_info': {...},\n",
      "               u'workspace': {...}}}\n"
     ]
    }
   ],
   "source": [
    "test_workflow_id = session.workfile.get_id(test_workflow_name, test_workspace_id)\n",
    "single_workfile_info = session.workfile.get(test_workflow_id)\n",
    "pprint(single_workfile_info, depth = 2)"
   ]
  },
  {
   "cell_type": "code",
   "execution_count": 6,
   "metadata": {
    "collapsed": false
   },
   "outputs": [
    {
     "data": {
      "text/plain": [
       "375"
      ]
     },
     "execution_count": 6,
     "metadata": {},
     "output_type": "execute_result"
    }
   ],
   "source": [
    "test_workflow_id"
   ]
  },
  {
   "cell_type": "markdown",
   "metadata": {},
   "source": [
    "## Running a workflow"
   ]
  },
  {
   "cell_type": "code",
   "execution_count": 11,
   "metadata": {
    "collapsed": false
   },
   "outputs": [],
   "source": [
    "process_id = session.workfile.process.run(test_workflow_id)"
   ]
  },
  {
   "cell_type": "code",
   "execution_count": 7,
   "metadata": {
    "collapsed": false
   },
   "outputs": [
    {
     "data": {
      "text/plain": [
       "'WORKING'"
      ]
     },
     "execution_count": 7,
     "metadata": {},
     "output_type": "execute_result"
    }
   ],
   "source": [
    "session.workfile.process.query_status(process_id)"
   ]
  },
  {
   "cell_type": "code",
   "execution_count": 8,
   "metadata": {
    "collapsed": false
   },
   "outputs": [
    {
     "name": "stdout",
     "output_type": "stream",
     "text": [
      "Workflow in progress for ~35.33 seconds.      "
     ]
    },
    {
     "data": {
      "text/plain": [
       "'FINISHED'"
      ]
     },
     "execution_count": 8,
     "metadata": {},
     "output_type": "execute_result"
    },
    {
     "name": "stdout",
     "output_type": "stream",
     "text": [
      "\n"
     ]
    }
   ],
   "source": [
    "session.workfile.process.wait_until_finished(process_id, verbose=True, query_time=5, timeout=100)"
   ]
  },
  {
   "cell_type": "markdown",
   "metadata": {},
   "source": [
    "## Downloading the flow results"
   ]
  },
  {
   "cell_type": "code",
   "execution_count": 17,
   "metadata": {
    "collapsed": false
   },
   "outputs": [],
   "source": [
    "flow_results_all = session.workfile.process.download_results(test_workflow_id, process_id)"
   ]
  },
  {
   "cell_type": "code",
   "execution_count": 18,
   "metadata": {
    "collapsed": false
   },
   "outputs": [
    {
     "data": {
      "text/plain": [
       "{u'endTime': u'2017-02-27T15:14:30.830-0800',\n",
       " u'executeUser': u'665',\n",
       " u'noOfError': 0,\n",
       " u'noOfNodesProcessed': 3,\n",
       " u'processId': u'52fa392c-c28a-42f8-b36b-3ddec918b01c',\n",
       " u'startTime': u'2017-02-27T15:13:48.198-0800',\n",
       " u'status': u'SUCCESS',\n",
       " u'workflowId': u'375',\n",
       " u'workflowName': u'WineData'}"
      ]
     },
     "execution_count": 18,
     "metadata": {},
     "output_type": "execute_result"
    }
   ],
   "source": [
    "session.workfile.process.get_metadata(flow_results)"
   ]
  },
  {
   "cell_type": "code",
   "execution_count": null,
   "metadata": {
    "collapsed": false
   },
   "outputs": [],
   "source": [
    "operator_data = session.workfile.process.find_operator('Row Filter', flow_results);\n",
    "pprint(operator_data, depth = 2)"
   ]
  },
  {
   "cell_type": "code",
   "execution_count": null,
   "metadata": {
    "collapsed": false
   },
   "outputs": [],
   "source": [
    "pprint(session.workfile.process.get_flow_metadata(flow_results))"
   ]
  },
  {
   "cell_type": "markdown",
   "metadata": {
    "collapsed": true
   },
   "source": [
    "## Using workflow variables\n",
    "\n",
    "After properly defining a workflow variable in Alpine UI, a user can inject different values into a workflow. In this workflow I've defined a workflow variable that is being used in a Row Filter operator."
   ]
  },
  {
   "cell_type": "code",
   "execution_count": 15,
   "metadata": {
    "collapsed": false
   },
   "outputs": [
    {
     "name": "stdout",
     "output_type": "stream",
     "text": [
      "Workflow in progress for ~40.32 seconds.       "
     ]
    },
    {
     "data": {
      "text/plain": [
       "'FINISHED'"
      ]
     },
     "execution_count": 15,
     "metadata": {},
     "output_type": "execute_result"
    },
    {
     "name": "stdout",
     "output_type": "stream",
     "text": [
      "\n"
     ]
    }
   ],
   "source": [
    "variables = [{\"name\": \"@row_filter\", \"value\": \"15\"}]\n",
    "process_id = session.workfile.process.run(test_workflow_id, variables=variables)\n",
    "session.workfile.process.wait_until_finished(process_id, verbose=True, query_time=5, timeout=100)"
   ]
  },
  {
   "cell_type": "code",
   "execution_count": 17,
   "metadata": {
    "collapsed": false
   },
   "outputs": [
    {
     "name": "stdout",
     "output_type": "stream",
     "text": [
      "u'19'\n"
     ]
    }
   ],
   "source": [
    "flow_results = session.workfile.process.download_results(test_workflow_id, process_id)\n",
    "ss_results = session.workfile.process.find_operator(\"Summary Statistics\", flow_results)\n",
    "pprint(ss_results['visualData']['items'][0]['count'])"
   ]
  },
  {
   "cell_type": "code",
   "execution_count": null,
   "metadata": {
    "collapsed": true
   },
   "outputs": [],
   "source": []
  }
 ],
 "metadata": {
  "anaconda-cloud": {},
  "kernelspec": {
   "display_name": "Python [conda root]",
   "language": "python",
   "name": "conda-root-py"
  },
  "language_info": {
   "codemirror_mode": {
    "name": "ipython",
    "version": 2
   },
   "file_extension": ".py",
   "mimetype": "text/x-python",
   "name": "python",
   "nbconvert_exporter": "python",
   "pygments_lexer": "ipython2",
   "version": "2.7.13"
  }
 },
 "nbformat": 4,
 "nbformat_minor": 0
}
