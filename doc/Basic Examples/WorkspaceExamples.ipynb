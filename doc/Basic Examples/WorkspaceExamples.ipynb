{
 "cells": [
  {
   "cell_type": "markdown",
   "metadata": {},
   "source": [
    "# Workspace Examples\n",
    "\n",
    "We can also interact with workspaces: create, edit, delete, change user membership."
   ]
  },
  {
   "cell_type": "code",
   "execution_count": 1,
   "metadata": {
    "collapsed": true
   },
   "outputs": [],
   "source": [
    "username = 'demoadmin'\n",
    "password = 'password'\n",
    "host = \"10.10.0.204\"\n",
    "port = \"8080\""
   ]
  },
  {
   "cell_type": "code",
   "execution_count": 2,
   "metadata": {
    "collapsed": true
   },
   "outputs": [],
   "source": [
    "import api as AlpineAPI\n",
    "from pprint import pprint"
   ]
  },
  {
   "cell_type": "code",
   "execution_count": 3,
   "metadata": {
    "collapsed": false
   },
   "outputs": [],
   "source": [
    "session = AlpineAPI.Alpine(host, port, username, password)"
   ]
  },
  {
   "cell_type": "markdown",
   "metadata": {
    "collapsed": false
   },
   "source": [
    "## Get lists of workspaces"
   ]
  },
  {
   "cell_type": "code",
   "execution_count": 4,
   "metadata": {
    "collapsed": false
   },
   "outputs": [
    {
     "data": {
      "text/plain": [
       "7"
      ]
     },
     "execution_count": 4,
     "metadata": {},
     "output_type": "execute_result"
    }
   ],
   "source": [
    "my_user_id = session.user.get_id(username)\n",
    "my_workspaces = session.workspace.get_list(my_user_id)\n",
    "len(my_workspaces)"
   ]
  },
  {
   "cell_type": "code",
   "execution_count": 5,
   "metadata": {
    "collapsed": false
   },
   "outputs": [
    {
     "data": {
      "text/plain": [
       "70"
      ]
     },
     "execution_count": 5,
     "metadata": {},
     "output_type": "execute_result"
    }
   ],
   "source": [
    "all_workspaces = session.workspace.get_list()\n",
    "len(all_workspaces)"
   ]
  },
  {
   "cell_type": "markdown",
   "metadata": {},
   "source": [
    "## Interact"
   ]
  },
  {
   "cell_type": "code",
   "execution_count": 6,
   "metadata": {
    "collapsed": true
   },
   "outputs": [],
   "source": [
    "workspace = session.workspace.create(workspace_name = \"Test WS\", public = True, summary = \"Just a test\");\n",
    "workspace_id = workspace['id']"
   ]
  },
  {
   "cell_type": "code",
   "execution_count": 7,
   "metadata": {
    "collapsed": false,
    "scrolled": true
   },
   "outputs": [
    {
     "name": "stdout",
     "output_type": "stream",
     "text": [
      "{u'archived': False,\n u'archived_at': None,\n u'archiver': None,\n u'complete_json': True,\n u'datasets_count': 0,\n u'entity_type': u'workspace',\n u'has_added_member': False,\n u'has_added_sandbox': False,\n u'has_added_workfile': False,\n u'has_changed_settings': False,\n u'has_milestones': False,\n u'has_recent_comments': False,\n u'id': 1631,\n u'image': {u'complete_json': True,\n            u'entity_type': u'image',\n            u'icon': u'',\n            u'original': u''},\n u'insights_count': 0,\n u'is_deleted': None,\n u'is_member': True,\n u'is_project': True,\n u'members_count': 1,\n u'milestone_completed_count': 0,\n u'milestone_count': 0,\n u'name': u'Test WS',\n u'owner': {u'admin': True,\n            u'auth_method': u'internal',\n            u'complete_json': True,\n            u'dept': u'Development',\n            u'email': u'demoadmin@alpinenow.com',\n            u'entity_type': u'user',\n            u'first_name': u'Demo',\n            u'id': 665,\n            u'image': {u'complete_json': True,\n                       u'entity_type': u'image',\n                       u'icon': u'/users/665/image?style=icon&1483606634',\n                       u'original': u'/users/665/image?style=original&1483606634'},\n            u'is_deleted': None,\n            u'last_name': u'Admin',\n            u'ldap_group_id': None,\n            u'notes': u'',\n            u'roles': [u'admin'],\n            u'subscribed_to_emails': True,\n            u'tags': [],\n            u'title': u'Assistant to the Regional Manager',\n            u'user_type': u'analytics_developer',\n            u'username': u'demoadmin',\n            u'using_default_image': True},\n u'permission': [u'admin', u'create_workflow'],\n u'project_status': u'on_track',\n u'project_status_reason': None,\n u'project_target_date': None,\n u'public': True,\n u'recent_comments_count': 0,\n u'recent_insights_count': 0,\n u'sandbox_info': None,\n u'show_sandbox_datasets': True,\n u'summary': u'Just a test',\n u'tags': [],\n u'workfiles_count': 0,\n u'workspace_stage': {u'complete_json': True,\n                      u'default': True,\n                      u'description_long': u'Define the two essential components of a machine learning project. What business problem are we solving? How should the solution change the way our business operates? Locate or acquire all necessary data.',\n                      u'description_short': u'Define the essential components of the project.',\n                      u'id': 1,\n                      u'name': u'Define',\n                      u'position': 1},\n u'workspace_stage_id': 1}\n"
     ]
    }
   ],
   "source": [
    "one_workspace = session.workspace.get(workspace_id)\n",
    "pprint(one_workspace)"
   ]
  },
  {
   "cell_type": "code",
   "execution_count": 8,
   "metadata": {
    "collapsed": false
   },
   "outputs": [
    {
     "data": {
      "text/plain": [
       "[{u'admin': True,\n  u'auth_method': u'internal',\n  u'complete_json': True,\n  u'dept': u'Development',\n  u'email': u'demoadmin@alpinenow.com',\n  u'entity_type': u'user',\n  u'first_name': u'Demo',\n  u'id': 665,\n  u'image': {u'complete_json': True,\n   u'entity_type': u'image',\n   u'icon': u'/users/665/image?style=icon&1483606634',\n   u'original': u'/users/665/image?style=original&1483606634'},\n  u'is_deleted': None,\n  u'last_name': u'Admin',\n  u'ldap_group_id': None,\n  u'notes': u'',\n  u'role': u'Project Manager',\n  u'roles': [u'admin'],\n  u'subscribed_to_emails': True,\n  u'tags': [],\n  u'title': u'Assistant to the Regional Manager',\n  u'user_type': u'analytics_developer',\n  u'username': u'demoadmin',\n  u'using_default_image': True}]"
      ]
     },
     "execution_count": 8,
     "metadata": {},
     "output_type": "execute_result"
    }
   ],
   "source": [
    "session.workspace.member.get_list(workspace_id)"
   ]
  },
  {
   "cell_type": "code",
   "execution_count": 9,
   "metadata": {
    "collapsed": false
   },
   "outputs": [],
   "source": [
    "session.workspace.delete(workspace_id)"
   ]
  },
  {
   "cell_type": "code",
   "execution_count": 10,
   "metadata": {
    "collapsed": false
   },
   "outputs": [],
   "source": [
    "session.workspace.delete(workspace_id)"
   ]
  }
 ],
 "metadata": {
  "anaconda-cloud": {},
  "kernelspec": {
   "display_name": "Python [conda root]",
   "language": "python",
   "name": "conda-root-py"
  },
  "language_info": {
   "codemirror_mode": {
    "name": "ipython",
    "version": 2.0
   },
   "file_extension": ".py",
   "mimetype": "text/x-python",
   "name": "python",
   "nbconvert_exporter": "python",
   "pygments_lexer": "ipython2",
   "version": "2.7.13"
  }
 },
 "nbformat": 4,
 "nbformat_minor": 0
}