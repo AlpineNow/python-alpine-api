{
 "cells": [
  {
   "cell_type": "markdown",
   "metadata": {},
   "source": [
    "# Hyperparameter search\n",
    "\n",
    "We can use the Python API to iteratively run a workflow with different injected variables."
   ]
  },
  {
   "cell_type": "code",
   "execution_count": 1,
   "metadata": {
    "collapsed": true
   },
   "outputs": [],
   "source": [
    "import alpine as AlpineAPI"
   ]
  },
  {
   "cell_type": "code",
   "execution_count": 2,
   "metadata": {
    "collapsed": true
   },
   "outputs": [],
   "source": [
    "from pprint import pprint\n",
    "import json\n",
    "import seaborn as sns\n",
    "import matplotlib.pyplot as plt\n",
    "%matplotlib inline"
   ]
  },
  {
   "cell_type": "markdown",
   "metadata": {},
   "source": [
    "### Connection information"
   ]
  },
  {
   "cell_type": "code",
   "execution_count": 3,
   "metadata": {
    "collapsed": true
   },
   "outputs": [],
   "source": [
    "filename = \"alpine_login.conf\"\n",
    "\n",
    "with open(filename, \"r\") as f:\n",
    "    data = f.read()\n",
    "\n",
    "conn_info = json.loads(data)\n",
    "\n",
    "host = conn_info[\"host\"]\n",
    "port = conn_info[\"port\"]\n",
    "username = conn_info[\"username\"]\n",
    "password = conn_info[\"password\"]"
   ]
  },
  {
   "cell_type": "markdown",
   "metadata": {},
   "source": [
    "### Create a session and login"
   ]
  },
  {
   "cell_type": "code",
   "execution_count": 4,
   "metadata": {
    "collapsed": false
   },
   "outputs": [],
   "source": [
    "session = AlpineAPI.APIClient(host, port, username, password)"
   ]
  },
  {
   "cell_type": "code",
   "execution_count": 5,
   "metadata": {
    "collapsed": false
   },
   "outputs": [
    {
     "name": "stdout",
     "output_type": "stream",
     "text": [
      "{u'response': {u'associated_worklets': [],\n",
      "               u'comment_count': 0,\n",
      "               u'complete_json': True,\n",
      "               u'dataset_ids': [],\n",
      "               u'description': u'',\n",
      "               u'entity_subtype': u'alpine',\n",
      "               u'entity_type': u'workfile',\n",
      "               u'execution_locations': [...],\n",
      "               u'file_name': u'Random Forest Parameter Search',\n",
      "               u'file_type': u'work_flow',\n",
      "               u'id': 701,\n",
      "               u'is_deleted': None,\n",
      "               u'latest_version_id': None,\n",
      "               u'link_url': None,\n",
      "               u'owner': {...},\n",
      "               u'recent_comments': [],\n",
      "               u'status': u'idle',\n",
      "               u'tags': [],\n",
      "               u'user_modified_at': u'2017-02-28T21:35:54Z',\n",
      "               u'version_info': {...},\n",
      "               u'workspace': {...}}}\n"
     ]
    }
   ],
   "source": [
    "pprint(session.workfile.get(701), depth = 2)"
   ]
  },
  {
   "cell_type": "markdown",
   "metadata": {},
   "source": [
    "### Running a workflow and downloading the results"
   ]
  },
  {
   "cell_type": "code",
   "execution_count": 6,
   "metadata": {
    "collapsed": true
   },
   "outputs": [],
   "source": [
    "workflow_id = 701"
   ]
  },
  {
   "cell_type": "code",
   "execution_count": 7,
   "metadata": {
    "collapsed": false
   },
   "outputs": [
    {
     "name": "stdout",
     "output_type": "stream",
     "text": [
      "Workflow in progress for ~242.5 seconds.                                              \n"
     ]
    },
    {
     "data": {
      "text/plain": [
       "u'SUCCESS'"
      ]
     },
     "execution_count": 7,
     "metadata": {},
     "output_type": "execute_result"
    }
   ],
   "source": [
    "process_id = session.workfile.process.run(workflow_id)\n",
    "\n",
    "session.workfile.process.wait_until_finished(workflow_id,\n",
    "                                             process_id,\n",
    "                                             verbose=True,\n",
    "                                             query_time=5,\n",
    "                                             timeout=1000)"
   ]
  },
  {
   "cell_type": "code",
   "execution_count": 8,
   "metadata": {
    "collapsed": false
   },
   "outputs": [
    {
     "name": "stdout",
     "output_type": "stream",
     "text": [
      "[{u'isGenerateReport': True,\n",
      "  u'node_meta_info': [...],\n",
      "  u'out_id': 1493155451032.9402,\n",
      "  u'out_title': u'magic04.csv',\n",
      "  u'visualData': {...},\n",
      "  u'visualType': 0},\n",
      " {u'isGenerateReport': True,\n",
      "  u'node_meta_info': [...],\n",
      "  u'out_id': 1493155489783.9727,\n",
      "  u'out_title': u'Random Sampling',\n",
      "  u'visualData': [...],\n",
      "  u'visualType': 6},\n",
      " {u'isGenerateReport': True,\n",
      "  u'node_meta_info': [...],\n",
      "  u'out_id': 1493155499187.6677,\n",
      "  u'out_title': u'Test Set',\n",
      "  u'visualData': {...},\n",
      "  u'visualType': 0},\n",
      " {u'isGenerateReport': True,\n",
      "  u'node_meta_info': [...],\n",
      "  u'out_id': 1493155506846.1965,\n",
      "  u'out_title': u'Train Set',\n",
      "  u'visualData': {...},\n",
      "  u'visualType': 0},\n",
      " {u'isGenerateReport': True,\n",
      "  u'node_meta_info': [...],\n",
      "  u'out_id': 1493155616276.4927,\n",
      "  u'out_title': u'Alpine Forest Classification',\n",
      "  u'visualData': [...],\n",
      "  u'visualType': 6},\n",
      " {u'isGenerateReport': True,\n",
      "  u'out_id': 1493155680415.3167,\n",
      "  u'out_title': u'Confusion Matrix',\n",
      "  u'visualData': [...],\n",
      "  u'visualType': 6}]\n"
     ]
    }
   ],
   "source": [
    "flow_results = session.workfile.process.download_results(workflow_id, process_id)\n",
    "pprint(flow_results['outputs'], depth = 2)"
   ]
  },
  {
   "cell_type": "markdown",
   "metadata": {},
   "source": [
    "The downloaded results file is a summary of all the operator output in the workflow. In particular, it's a json file that we can manipulate or save to disk."
   ]
  },
  {
   "cell_type": "code",
   "execution_count": 9,
   "metadata": {
    "collapsed": false
   },
   "outputs": [],
   "source": [
    "outfile = \"Results_File_N_Trees_{}.fr\".format(str(50))\n",
    "\n",
    "with open(outfile, \"w\") as f:\n",
    "    json.dump(flow_results, f)"
   ]
  },
  {
   "cell_type": "markdown",
   "metadata": {},
   "source": [
    "### Parsing workflow results\n",
    "\n",
    "When we convert the downloaded results to a Python object we get a nested dictionary/list object. I'm pulling two values out of the results: \n",
    "\n",
    "1. The overall prediction accuracy. This comes from the *Confusion Matrix* operator.\n",
    "2. The number of trees. This comes from the *Alpine Forest Classification* operator.\n",
    "\n",
    "This function parses the file to return those two values."
   ]
  },
  {
   "cell_type": "code",
   "execution_count": 10,
   "metadata": {
    "collapsed": true
   },
   "outputs": [],
   "source": [
    "def parse_flow_results(workflow_id, process_id):\n",
    "    flow_results = session.workfile.process.download_results(workflow_id, process_id)\n",
    "\n",
    "    # Get accuracy from the confusion matrix\n",
    "    conf_matrix_data = session.workfile.process.find_operator('Confusion Matrix', flow_results)\n",
    "    acc = float(conf_matrix_data['visualData'][0]['visualData']['items'][2]['Class Recall'].split()[1])\n",
    "    \n",
    "    # Get number of trees from the Alpine Forest\n",
    "    alpine_forest_data = session.workfile.process.find_operator('Alpine Forest Classification', flow_results)\n",
    "    N = int(alpine_forest_data['visualData'][2]['visualData']['items'][0]['Average over All Trees'])\n",
    "    \n",
    "    return (N, acc)"
   ]
  },
  {
   "cell_type": "markdown",
   "metadata": {},
   "source": [
    "### Workflow variables\n",
    "\n",
    "Variables with different values can be inserted into workflows. They have to be formatted as below and are passed as an optioned argument to workflow run method."
   ]
  },
  {
   "cell_type": "code",
   "execution_count": 11,
   "metadata": {
    "collapsed": false
   },
   "outputs": [],
   "source": [
    "ntrees = [5,10,25,50,75]\n",
    "variables = [[{\"name\": \"@n_trees\", \"value\": str(N)}] for N in ntrees]"
   ]
  },
  {
   "cell_type": "code",
   "execution_count": 12,
   "metadata": {
    "collapsed": false
   },
   "outputs": [
    {
     "data": {
      "text/plain": [
       "[[{'name': '@n_trees', 'value': '5'}],\n",
       " [{'name': '@n_trees', 'value': '10'}],\n",
       " [{'name': '@n_trees', 'value': '25'}],\n",
       " [{'name': '@n_trees', 'value': '50'}],\n",
       " [{'name': '@n_trees', 'value': '75'}]]"
      ]
     },
     "execution_count": 12,
     "metadata": {},
     "output_type": "execute_result"
    }
   ],
   "source": [
    "variables"
   ]
  },
  {
   "cell_type": "markdown",
   "metadata": {},
   "source": [
    "### Run the workflow in a loop, extracting test accuracy"
   ]
  },
  {
   "cell_type": "code",
   "execution_count": 15,
   "metadata": {
    "collapsed": false
   },
   "outputs": [
    {
     "name": "stdout",
     "output_type": "stream",
     "text": [
      "Running with work flow variable: [{'name': '@n_trees', 'value': '5'}]\n",
      "Workflow in progress for ~191.1 seconds.                                    \n",
      "For 5 trees, test accuracy is 0.8530647\n",
      "\n",
      "Running with work flow variable: [{'name': '@n_trees', 'value': '10'}]\n",
      "Workflow in progress for ~207.0 seconds.                                       \n",
      "For 10 trees, test accuracy is 0.861461\n",
      "\n",
      "Running with work flow variable: [{'name': '@n_trees', 'value': '25'}]\n",
      "Workflow in progress for ~250.3 seconds.                                               \n",
      "For 25 trees, test accuracy is 0.8709068\n",
      "\n",
      "Running with work flow variable: [{'name': '@n_trees', 'value': '50'}]\n",
      "Workflow in progress for ~311.6 seconds.                                                           \n",
      "For 50 trees, test accuracy is 0.875105\n",
      "\n",
      "Running with work flow variable: [{'name': '@n_trees', 'value': '75'}]\n",
      "Workflow in progress for ~363.1 seconds.                                                                     \n",
      "For 75 trees, test accuracy is 0.877204\n",
      "\n"
     ]
    }
   ],
   "source": [
    "test_acc = []\n",
    "\n",
    "for variable in variables:\n",
    "    print(\"Running with work flow variable: {}\".format(variable))\n",
    "    process_id = session.workfile.process.run(workflow_id, variables=variable)\n",
    "    session.workfile.process.wait_until_finished(workflow_id, process_id, verbose=True, query_time=5, timeout=1000)\n",
    "    \n",
    "    (N, acc) = parse_flow_results(workflow_id, process_id)\n",
    "    test_acc.append(acc)\n",
    "    \n",
    "    print(\"For {} trees, test accuracy is {}\".format(N, acc))\n",
    "    print(\"\")"
   ]
  },
  {
   "cell_type": "code",
   "execution_count": 16,
   "metadata": {
    "collapsed": false,
    "scrolled": false
   },
   "outputs": [
    {
     "data": {
      "image/png": "[encoded data removed]",
      "text/plain": [
       "<matplotlib.figure.Figure at 0x10ca06d10>"
      ]
     },
     "metadata": {},
     "output_type": "display_data"
    }
   ],
   "source": [
    "plt.figure(figsize = (10,7))\n",
    "plt.plot(ntrees, test_acc, \"o--\")\n",
    "plt.xlabel(\"Number of trees\", size=15)\n",
    "plt.ylabel(\"Test Accuracy\", size=15);"
   ]
  },
  {
   "cell_type": "code",
   "execution_count": null,
   "metadata": {
    "collapsed": true
   },
   "outputs": [],
   "source": []
  }
 ],
 "metadata": {
  "kernelspec": {
   "display_name": "Python [conda root]",
   "language": "python",
   "name": "conda-root-py"
  },
  "language_info": {
   "codemirror_mode": {
    "name": "ipython",
    "version": 2
   },
   "file_extension": ".py",
   "mimetype": "text/x-python",
   "name": "python",
   "nbconvert_exporter": "python",
   "pygments_lexer": "ipython2",
   "version": "2.7.13"
  }
 },
 "nbformat": 4,
 "nbformat_minor": 2
}
