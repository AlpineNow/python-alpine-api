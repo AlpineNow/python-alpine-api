{
 "cells": [
  {
   "cell_type": "markdown",
   "metadata": {},
   "source": [
    "# Introduction\n",
    "\n",
    "Let's start with a example of an Alpine API session.\n",
    "\n",
    "1. Initialize a session.\n",
    "1. Take a tour some commands.\n",
    "1. Run a workflow and download the results."
   ]
  },
  {
   "cell_type": "markdown",
   "metadata": {},
   "source": [
    "Import the Python Alpine API and some other useful packages."
   ]
  },
  {
   "cell_type": "code",
   "execution_count": 1,
   "metadata": {
    "collapsed": true
   },
   "outputs": [],
   "source": [
    "import alpine as AlpineAPI"
   ]
  },
  {
   "cell_type": "code",
   "execution_count": 2,
   "metadata": {
    "collapsed": true
   },
   "outputs": [],
   "source": [
    "from pprint import pprint\n",
    "import json"
   ]
  },
  {
   "cell_type": "markdown",
   "metadata": {},
   "source": [
    "### Setup\n",
    "\n",
    "Have access to a workflow on your Alpine instance that you can run. You'll need a few pieces of information in order to login and run the workflow. First, find the url of the open workflow. It should look something like:\n",
    "\n",
    "`https://<AlpineHost>:<PortNum>/#workflows/<WorkflowID>`\n",
    "\n",
    "You'll also need your Alpine username and password.\n",
    "\n",
    "I've stored my connection information in a configuration file named `alpine_login.conf` that looks something like this:\n",
    "```JSON\n",
    "    {\n",
    "        \"host\": \"AlpineHost\",\n",
    "        \"port\": \"PortNum\",\n",
    "        \"username\": \"fakename\",\n",
    "        \"password\": \"12345\"\n",
    "    }\n",
    "```"
   ]
  },
  {
   "cell_type": "code",
   "execution_count": 3,
   "metadata": {
    "collapsed": true
   },
   "outputs": [],
   "source": [
    "filename = \"alpine_login.conf\"\n",
    "\n",
    "with open(filename, \"r\") as f:\n",
    "    data = f.read()\n",
    "\n",
    "conn_info = json.loads(data)\n",
    "\n",
    "host = conn_info[\"host\"]\n",
    "port = conn_info[\"port\"]\n",
    "username = conn_info[\"username\"]\n",
    "password = conn_info[\"password\"]"
   ]
  },
  {
   "cell_type": "markdown",
   "metadata": {},
   "source": [
    "Here are the names of a workspace and a workflow within it that we want to run."
   ]
  },
  {
   "cell_type": "code",
   "execution_count": 4,
   "metadata": {
    "collapsed": true
   },
   "outputs": [],
   "source": [
    "test_workspace_name = \"API Sample Workspace\"\n",
    "test_workflow_name = \"Data ETL\""
   ]
  },
  {
   "cell_type": "markdown",
   "metadata": {},
   "source": [
    "Create a session and login the user."
   ]
  },
  {
   "cell_type": "code",
   "execution_count": 5,
   "metadata": {
    "collapsed": false
   },
   "outputs": [],
   "source": [
    "session = AlpineAPI.APIClient(host, port, username, password)"
   ]
  },
  {
   "cell_type": "markdown",
   "metadata": {},
   "source": [
    "### Use the API"
   ]
  },
  {
   "cell_type": "markdown",
   "metadata": {},
   "source": [
    "Get information about the Alpine instance."
   ]
  },
  {
   "cell_type": "code",
   "execution_count": 6,
   "metadata": {
    "collapsed": false,
    "scrolled": false
   },
   "outputs": [
    {
     "name": "stdout",
     "output_type": "stream",
     "text": [
      "{u'admins': 400,\n",
      " u'advisor_now_enabled': True,\n",
      " u'analytics_developer': 100,\n",
      " u'analytics_developer_limit_reached': False,\n",
      " u'branding': u'alpine',\n",
      " u'business_user': 100,\n",
      " u'business_user_limit_reached': False,\n",
      " u'client_name': None,\n",
      " u'collaborator': 100,\n",
      " u'collaborator_limit_reached': False,\n",
      " u'correct_mac_address': True,\n",
      " u'data_analyst': 100,\n",
      " u'data_analyst_limit_reached': False,\n",
      " u'expired': False,\n",
      " u'expires': u'2099-12-31',\n",
      " u'is_enabled_api': True,\n",
      " u'is_enabled_custom': True,\n",
      " u'is_enabled_jobs': True,\n",
      " u'is_enabled_milestones': True,\n",
      " u'is_enabled_modeling': True,\n",
      " u'is_enabled_touchpoints': True,\n",
      " u'level': None,\n",
      " u'limit_api': False,\n",
      " u'limit_custom': False,\n",
      " u'limit_jobs': False,\n",
      " u'limit_milestones': False,\n",
      " u'limit_modeling': False,\n",
      " u'limit_touchpoints': False,\n",
      " u'mac_address': u'!!!!!!!!!!',\n",
      " u'organization_uuid': None,\n",
      " u'users_license_limit_reached': False,\n",
      " u'vendor': u'alpine',\n",
      " u'version': u'6.3.0.0.5410-4ef43d3c9\\n',\n",
      " u'workflow_enabled': True}\n"
     ]
    }
   ],
   "source": [
    "pprint(session.get_license())"
   ]
  },
  {
   "cell_type": "code",
   "execution_count": 7,
   "metadata": {
    "collapsed": false
   },
   "outputs": [
    {
     "name": "stdout",
     "output_type": "stream",
     "text": [
      "u'6.3.0.0.5410-4ef43d3c9'\n"
     ]
    }
   ],
   "source": [
    "pprint(session.get_version())"
   ]
  },
  {
   "cell_type": "markdown",
   "metadata": {},
   "source": [
    "Find information about the logged-in user."
   ]
  },
  {
   "cell_type": "code",
   "execution_count": 8,
   "metadata": {
    "collapsed": false,
    "scrolled": false
   },
   "outputs": [
    {
     "name": "stdout",
     "output_type": "stream",
     "text": [
      "{u'admin': True,\n",
      " u'auth_method': u'internal',\n",
      " u'dept': u'',\n",
      " u'email': u'tjbay@alpinenow.com',\n",
      " u'entity_type': u'user',\n",
      " u'first_name': u'T.J.',\n",
      " u'id': 7,\n",
      " u'image': {u'complete_json': True,\n",
      "            u'entity_type': u'image',\n",
      "            u'icon': u'/users/7/image?style=icon&1482194432',\n",
      "            u'original': u'/users/7/image?style=original&1482194432'},\n",
      " u'is_deleted': None,\n",
      " u'last_name': u'Bay',\n",
      " u'ldap_group_id': None,\n",
      " u'notes': u'',\n",
      " u'roles': [u'admin'],\n",
      " u'subscribed_to_emails': False,\n",
      " u'tags': [],\n",
      " u'title': u'Assistant Regional Manager',\n",
      " u'user_type': u'analytics_developer',\n",
      " u'username': u'tjbay',\n",
      " u'using_default_image': True}\n"
     ]
    }
   ],
   "source": [
    "pprint(session.get_status())"
   ]
  },
  {
   "cell_type": "markdown",
   "metadata": {
    "collapsed": true
   },
   "source": [
    "Find information on all users."
   ]
  },
  {
   "cell_type": "code",
   "execution_count": 9,
   "metadata": {
    "collapsed": false
   },
   "outputs": [
    {
     "data": {
      "text/plain": [
       "103"
      ]
     },
     "execution_count": 9,
     "metadata": {},
     "output_type": "execute_result"
    }
   ],
   "source": [
    "len(session.user.get_list())"
   ]
  },
  {
   "cell_type": "markdown",
   "metadata": {
    "collapsed": true
   },
   "source": [
    "Find my user ID and then use it to update my user data."
   ]
  },
  {
   "cell_type": "code",
   "execution_count": 10,
   "metadata": {
    "collapsed": true
   },
   "outputs": [],
   "source": [
    "user_id = session.user.get_id(username)"
   ]
  },
  {
   "cell_type": "code",
   "execution_count": 11,
   "metadata": {
    "collapsed": false
   },
   "outputs": [
    {
     "name": "stdout",
     "output_type": "stream",
     "text": [
      "{u'admin': True,\n",
      " u'auth_method': u'internal',\n",
      " u'complete_json': True,\n",
      " u'dept': u'',\n",
      " u'email': u'tjbay@alpinenow.com',\n",
      " u'entity_type': u'user',\n",
      " u'first_name': u'T.J.',\n",
      " u'id': 7,\n",
      " u'image': {u'complete_json': True,\n",
      "            u'entity_type': u'image',\n",
      "            u'icon': u'/users/7/image?style=icon&1482194432',\n",
      "            u'original': u'/users/7/image?style=original&1482194432'},\n",
      " u'is_deleted': None,\n",
      " u'last_name': u'Bay',\n",
      " u'ldap_group_id': None,\n",
      " u'notes': u'',\n",
      " u'roles': [u'admin'],\n",
      " u'subscribed_to_emails': False,\n",
      " u'tags': [],\n",
      " u'title': u'Assistant to the Regional Manager',\n",
      " u'user_type': u'analytics_developer',\n",
      " u'username': u'tjbay',\n",
      " u'using_default_image': True}\n"
     ]
    }
   ],
   "source": [
    "pprint(session.user.update(user_id, title = \"Assistant to the Regional Manager\"))"
   ]
  },
  {
   "cell_type": "markdown",
   "metadata": {
    "collapsed": true
   },
   "source": [
    "A similar set of commands can be used to create and update workspaces and the membership of each workspace."
   ]
  },
  {
   "cell_type": "code",
   "execution_count": 12,
   "metadata": {
    "collapsed": false
   },
   "outputs": [],
   "source": [
    "test_workspace_id = session.workspace.get_id(test_workspace_name)\n",
    "session.workspace.member.add(test_workspace_id, user_id);"
   ]
  },
  {
   "cell_type": "markdown",
   "metadata": {},
   "source": [
    "### Run a workflow\n",
    "\n",
    "To run a workflow use the Process subclass of the Workfile class. The `wait_until_finished` method will periodically query the status of the running workflow and returns control to the user when the workflow has completed."
   ]
  },
  {
   "cell_type": "code",
   "execution_count": 13,
   "metadata": {
    "collapsed": false
   },
   "outputs": [
    {
     "name": "stdout",
     "output_type": "stream",
     "text": [
      "Workflow in progress for ~88.1 seconds.                 \n"
     ]
    },
    {
     "data": {
      "text/plain": [
       "u'SUCCESS'"
      ]
     },
     "execution_count": 13,
     "metadata": {},
     "output_type": "execute_result"
    }
   ],
   "source": [
    "workflow_id = session.workfile.get_id(workfile_name = \"Data ETL\",\n",
    "                                      workspace_id = test_workspace_id)\n",
    "\n",
    "process_id = session.workfile.process.run(workflow_id)\n",
    "\n",
    "session.workfile.process.wait_until_finished(workflow_id = workflow_id,\n",
    "                                             process_id = process_id,\n",
    "                                             verbose = True,\n",
    "                                             query_time = 5)"
   ]
  },
  {
   "cell_type": "markdown",
   "metadata": {},
   "source": [
    "We can download results using the `download_results` method. The flow results contain a summary of the output of each operator as well as metadata about the flow run."
   ]
  },
  {
   "cell_type": "code",
   "execution_count": 14,
   "metadata": {
    "collapsed": false
   },
   "outputs": [
    {
     "name": "stdout",
     "output_type": "stream",
     "text": [
      "{u'flowMetaInfo': {u'endTime': u'2017-04-25T15:00:35.178-0700',\n",
      "                   u'executeUser': u'7',\n",
      "                   u'noOfError': 0,\n",
      "                   u'noOfNodesProcessed': 3,\n",
      "                   u'processId': u'4b820a92-08d1-49f7-9aac-ce07eef4dd3d',\n",
      "                   u'startTime': u'2017-04-25T14:59:03.259-0700',\n",
      "                   u'status': u'SUCCESS',\n",
      "                   u'workflowId': u'1269',\n",
      "                   u'workflowName': u'Data ETL'},\n",
      " u'logs': [{...}, {...}, {...}, {...}, {...}, {...}, {...}],\n",
      " u'outputs': [{...}, {...}, {...}]}\n"
     ]
    }
   ],
   "source": [
    "flow_results = session.workfile.process.download_results(workflow_id, process_id)\n",
    "pprint(flow_results, depth=2)"
   ]
  },
  {
   "cell_type": "code",
   "execution_count": null,
   "metadata": {
    "collapsed": true
   },
   "outputs": [],
   "source": []
  }
 ],
 "metadata": {
  "kernelspec": {
   "display_name": "Python [conda root]",
   "language": "python",
   "name": "conda-root-py"
  },
  "language_info": {
   "codemirror_mode": {
    "name": "ipython",
    "version": 2
   },
   "file_extension": ".py",
   "mimetype": "text/x-python",
   "name": "python",
   "nbconvert_exporter": "python",
   "pygments_lexer": "ipython2",
   "version": "2.7.13"
  }
 },
 "nbformat": 4,
 "nbformat_minor": 2
}
