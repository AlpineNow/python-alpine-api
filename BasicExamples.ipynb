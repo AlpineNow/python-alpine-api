{
 "cells": [
  {
   "cell_type": "code",
   "execution_count": 1,
   "metadata": {
    "collapsed": false
   },
   "outputs": [],
   "source": [
    "# Login user:\n",
    "username = 'demoadmin'\n",
    "password = 'password'\n",
    "host = \"10.10.0.204\"\n",
    "port = \"8080\"\n",
    "\n",
    "#workfile_id = \"297\"\n",
    "#variables = [{\"name\": \"@min_credit_line\", \"value\": \"7\"}]"
   ]
  },
  {
   "cell_type": "code",
   "execution_count": 2,
   "metadata": {
    "collapsed": false
   },
   "outputs": [],
   "source": [
    "# from api.alpine import Alpine\n",
    "import api as AlpineAPI\n",
    "from pprint import pprint"
   ]
  },
  {
   "cell_type": "code",
   "execution_count": 3,
   "metadata": {
    "collapsed": false
   },
   "outputs": [
    {
     "name": "stderr",
     "output_type": "stream",
     "text": [
      "2017-01-30 12:51:06,958 requests.packages.urllib3.connectionpool connectionpool[214] INFO: Starting new HTTP connection (1): 10.10.0.204\n"
     ]
    }
   ],
   "source": [
    "session = AlpineAPI.Alpine(host, port, username, password)\n",
    "#session.get_login_status().get(\"response\").get(\"user\").get(\"id\")"
   ]
  },
  {
   "cell_type": "code",
   "execution_count": 8,
   "metadata": {
    "collapsed": false
   },
   "outputs": [
    {
     "name": "stdout",
     "output_type": "stream",
     "text": [
      "User deleted\n"
     ]
    },
    {
     "data": {
      "text/plain": [
       "<Response [200]>"
      ]
     },
     "execution_count": 8,
     "metadata": {},
     "output_type": "execute_result"
    }
   ],
   "source": [
    "session.user.delete_user(user_name=\"demo2\")"
   ]
  },
  {
   "cell_type": "code",
   "execution_count": 13,
   "metadata": {
    "collapsed": false
   },
   "outputs": [
    {
     "data": {
      "text/plain": [
       "200"
      ]
     },
     "execution_count": 13,
     "metadata": {},
     "output_type": "execute_result"
    }
   ],
   "source": []
  },
  {
   "cell_type": "code",
   "execution_count": 7,
   "metadata": {
    "collapsed": false
   },
   "outputs": [
    {
     "name": "stdout",
     "output_type": "stream",
     "text": [
      "{u'admin': True,\n",
      " u'auth_method': u'internal',\n",
      " u'complete_json': True,\n",
      " u'dept': u'',\n",
      " u'email': u'tjbay@alpinenow.com',\n",
      " u'entity_type': u'user',\n",
      " u'first_name': u'demo',\n",
      " u'id': 1512,\n",
      " u'image': {u'complete_json': True,\n",
      "            u'entity_type': u'image',\n",
      "            u'icon': u'/users/1512/image?style=icon&1485809502',\n",
      "            u'original': u'/users/1512/image?style=original&1485809502'},\n",
      " u'is_deleted': None,\n",
      " u'last_name': u'admin2',\n",
      " u'ldap_group_id': None,\n",
      " u'notes': u'Add Via API',\n",
      " u'roles': [u'admin'],\n",
      " u'subscribed_to_emails': False,\n",
      " u'tags': [],\n",
      " u'title': u'',\n",
      " u'user_type': u'data_analyst',\n",
      " u'username': u'demo2',\n",
      " u'using_default_image': True}\n"
     ]
    }
   ],
   "source": [
    "a = session.user.create_user(username=\"demo2\", password=\"demo62\", first_name=\"demo\",\n",
    "                             last_name=\"admin2\", email=\"tjbay@alpinenow.com\",\n",
    "                             admin_role=\"app_admin\", app_role=\"data_analyst\", email_notification=False)\n",
    "pprint(a)"
   ]
  },
  {
   "cell_type": "code",
   "execution_count": 6,
   "metadata": {
    "collapsed": false
   },
   "outputs": [
    {
     "name": "stdout",
     "output_type": "stream",
     "text": [
      "{u'admin': False,\n",
      " u'auth_method': u'internal',\n",
      " u'complete_json': True,\n",
      " u'dept': u'DSA',\n",
      " u'email': u'tjbay@alpinenow.com',\n",
      " u'entity_type': u'user',\n",
      " u'first_name': u'New',\n",
      " u'id': 1510,\n",
      " u'image': {u'complete_json': True,\n",
      "            u'entity_type': u'image',\n",
      "            u'icon': u'/users/1510/image?style=icon&1485808648',\n",
      "            u'original': u'/users/1510/image?style=original&1485808648'},\n",
      " u'is_deleted': None,\n",
      " u'last_name': u'Lname',\n",
      " u'ldap_group_id': None,\n",
      " u'notes': u'Changed Via API',\n",
      " u'roles': [],\n",
      " u'subscribed_to_emails': True,\n",
      " u'tags': [],\n",
      " u'title': u'',\n",
      " u'user_type': u'data_analyst',\n",
      " u'username': u'demo2',\n",
      " u'using_default_image': True}\n"
     ]
    }
   ],
   "source": [
    "b = session.user.update_user(user_name = 'demo2', first_name='New', last_name='Lname', email=None, title=None,\n",
    "                         dept='DSA', notes='Changed Via API', admin_role=\"admin\", app_role=None,\n",
    "                         email_notification = True)\n",
    "\n",
    "pprint(b)"
   ]
  },
  {
   "cell_type": "code",
   "execution_count": null,
   "metadata": {
    "collapsed": true
   },
   "outputs": [],
   "source": [
    "\n"
   ]
  },
  {
   "cell_type": "code",
   "execution_count": null,
   "metadata": {
    "collapsed": true
   },
   "outputs": [],
   "source": []
  },
  {
   "cell_type": "code",
   "execution_count": null,
   "metadata": {
    "collapsed": true
   },
   "outputs": [],
   "source": []
  },
  {
   "cell_type": "code",
   "execution_count": null,
   "metadata": {
    "collapsed": true
   },
   "outputs": [],
   "source": []
  },
  {
   "cell_type": "code",
   "execution_count": null,
   "metadata": {
    "collapsed": true
   },
   "outputs": [],
   "source": []
  },
  {
   "cell_type": "code",
   "execution_count": null,
   "metadata": {
    "collapsed": false
   },
   "outputs": [],
   "source": [
    "workfiles = session.workfile.get_workfiles_list(932)\n",
    "\n",
    "print(\"Workfile Name, ID\")\n",
    "\n",
    "for workfile in workfiles:\n",
    "    print(\"{}, {}\".format(workfile.get(\"file_name\"),workfile.get(\"id\")))"
   ]
  },
  {
   "cell_type": "code",
   "execution_count": null,
   "metadata": {
    "collapsed": false
   },
   "outputs": [],
   "source": [
    "process_id = session.workfile.run_workflow(workfile_id, variables)\n",
    "session.workfile.wait_for_workflow_to_finish(process_id)"
   ]
  },
  {
   "cell_type": "code",
   "execution_count": null,
   "metadata": {
    "collapsed": false
   },
   "outputs": [],
   "source": [
    "a = session.workfile.download_workflow_results(workfile_id, process_id)\n",
    "a['outputs']"
   ]
  },
  {
   "cell_type": "code",
   "execution_count": null,
   "metadata": {
    "collapsed": false
   },
   "outputs": [],
   "source": [
    "session.workfile.find_operator('Row Filter', a['outputs'])"
   ]
  },
  {
   "cell_type": "code",
   "execution_count": null,
   "metadata": {
    "collapsed": true
   },
   "outputs": [],
   "source": []
  }
 ],
 "metadata": {
  "anaconda-cloud": {},
  "kernelspec": {
   "display_name": "Python [conda root]",
   "language": "python",
   "name": "conda-root-py"
  },
  "language_info": {
   "codemirror_mode": {
    "name": "ipython",
    "version": 2
   },
   "file_extension": ".py",
   "mimetype": "text/x-python",
   "name": "python",
   "nbconvert_exporter": "python",
   "pygments_lexer": "ipython2",
   "version": "2.7.12"
  }
 },
 "nbformat": 4,
 "nbformat_minor": 0
}
